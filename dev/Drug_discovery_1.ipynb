{
  "nbformat": 4,
  "nbformat_minor": 0,
  "metadata": {
    "colab": {
      "provenance": [],
      "machine_shape": "hm",
      "collapsed_sections": [
        "8vbix6BrvIIe"
      ]
    },
    "kernelspec": {
      "name": "python3",
      "display_name": "Python 3"
    },
    "language_info": {
      "name": "python"
    },
    "gpuClass": "standard",
    "widgets": {
      "application/vnd.jupyter.widget-state+json": {
        "61ed4ae6ca074499af2f770abec4fc4c": {
          "model_module": "@jupyter-widgets/controls",
          "model_name": "HBoxModel",
          "model_module_version": "1.5.0",
          "state": {
            "_dom_classes": [],
            "_model_module": "@jupyter-widgets/controls",
            "_model_module_version": "1.5.0",
            "_model_name": "HBoxModel",
            "_view_count": null,
            "_view_module": "@jupyter-widgets/controls",
            "_view_module_version": "1.5.0",
            "_view_name": "HBoxView",
            "box_style": "",
            "children": [
              "IPY_MODEL_de060fe179a548dda51554f0b584e552",
              "IPY_MODEL_ca8805a2dcb84c608e5cd0e5a0a88c32",
              "IPY_MODEL_264a8304a3414804885c68c1f5ca6bda"
            ],
            "layout": "IPY_MODEL_a079f7cdfff34404b568926046b05a91"
          }
        },
        "de060fe179a548dda51554f0b584e552": {
          "model_module": "@jupyter-widgets/controls",
          "model_name": "HTMLModel",
          "model_module_version": "1.5.0",
          "state": {
            "_dom_classes": [],
            "_model_module": "@jupyter-widgets/controls",
            "_model_module_version": "1.5.0",
            "_model_name": "HTMLModel",
            "_view_count": null,
            "_view_module": "@jupyter-widgets/controls",
            "_view_module_version": "1.5.0",
            "_view_name": "HTMLView",
            "description": "",
            "description_tooltip": null,
            "layout": "IPY_MODEL_752e0112374549feb23986ea73e79ee7",
            "placeholder": "​",
            "style": "IPY_MODEL_811a03168e7d43f48e085348d9142505",
            "value": "100%"
          }
        },
        "ca8805a2dcb84c608e5cd0e5a0a88c32": {
          "model_module": "@jupyter-widgets/controls",
          "model_name": "FloatProgressModel",
          "model_module_version": "1.5.0",
          "state": {
            "_dom_classes": [],
            "_model_module": "@jupyter-widgets/controls",
            "_model_module_version": "1.5.0",
            "_model_name": "FloatProgressModel",
            "_view_count": null,
            "_view_module": "@jupyter-widgets/controls",
            "_view_module_version": "1.5.0",
            "_view_name": "ProgressView",
            "bar_style": "success",
            "description": "",
            "description_tooltip": null,
            "layout": "IPY_MODEL_1c6b6ae045114e43848bd1ec8df11981",
            "max": 15235,
            "min": 0,
            "orientation": "horizontal",
            "style": "IPY_MODEL_5499fb96cda24ea3b1ae75b4797dade8",
            "value": 15235
          }
        },
        "264a8304a3414804885c68c1f5ca6bda": {
          "model_module": "@jupyter-widgets/controls",
          "model_name": "HTMLModel",
          "model_module_version": "1.5.0",
          "state": {
            "_dom_classes": [],
            "_model_module": "@jupyter-widgets/controls",
            "_model_module_version": "1.5.0",
            "_model_name": "HTMLModel",
            "_view_count": null,
            "_view_module": "@jupyter-widgets/controls",
            "_view_module_version": "1.5.0",
            "_view_name": "HTMLView",
            "description": "",
            "description_tooltip": null,
            "layout": "IPY_MODEL_26b01d992d6b463ea62e2c7233a14cb9",
            "placeholder": "​",
            "style": "IPY_MODEL_5591b6c48aee454b81b5d6f1d44186a0",
            "value": " 15235/15235 [00:00&lt;00:00, 212762.44it/s]"
          }
        },
        "a079f7cdfff34404b568926046b05a91": {
          "model_module": "@jupyter-widgets/base",
          "model_name": "LayoutModel",
          "model_module_version": "1.2.0",
          "state": {
            "_model_module": "@jupyter-widgets/base",
            "_model_module_version": "1.2.0",
            "_model_name": "LayoutModel",
            "_view_count": null,
            "_view_module": "@jupyter-widgets/base",
            "_view_module_version": "1.2.0",
            "_view_name": "LayoutView",
            "align_content": null,
            "align_items": null,
            "align_self": null,
            "border": null,
            "bottom": null,
            "display": null,
            "flex": null,
            "flex_flow": null,
            "grid_area": null,
            "grid_auto_columns": null,
            "grid_auto_flow": null,
            "grid_auto_rows": null,
            "grid_column": null,
            "grid_gap": null,
            "grid_row": null,
            "grid_template_areas": null,
            "grid_template_columns": null,
            "grid_template_rows": null,
            "height": null,
            "justify_content": null,
            "justify_items": null,
            "left": null,
            "margin": null,
            "max_height": null,
            "max_width": null,
            "min_height": null,
            "min_width": null,
            "object_fit": null,
            "object_position": null,
            "order": null,
            "overflow": null,
            "overflow_x": null,
            "overflow_y": null,
            "padding": null,
            "right": null,
            "top": null,
            "visibility": null,
            "width": null
          }
        },
        "752e0112374549feb23986ea73e79ee7": {
          "model_module": "@jupyter-widgets/base",
          "model_name": "LayoutModel",
          "model_module_version": "1.2.0",
          "state": {
            "_model_module": "@jupyter-widgets/base",
            "_model_module_version": "1.2.0",
            "_model_name": "LayoutModel",
            "_view_count": null,
            "_view_module": "@jupyter-widgets/base",
            "_view_module_version": "1.2.0",
            "_view_name": "LayoutView",
            "align_content": null,
            "align_items": null,
            "align_self": null,
            "border": null,
            "bottom": null,
            "display": null,
            "flex": null,
            "flex_flow": null,
            "grid_area": null,
            "grid_auto_columns": null,
            "grid_auto_flow": null,
            "grid_auto_rows": null,
            "grid_column": null,
            "grid_gap": null,
            "grid_row": null,
            "grid_template_areas": null,
            "grid_template_columns": null,
            "grid_template_rows": null,
            "height": null,
            "justify_content": null,
            "justify_items": null,
            "left": null,
            "margin": null,
            "max_height": null,
            "max_width": null,
            "min_height": null,
            "min_width": null,
            "object_fit": null,
            "object_position": null,
            "order": null,
            "overflow": null,
            "overflow_x": null,
            "overflow_y": null,
            "padding": null,
            "right": null,
            "top": null,
            "visibility": null,
            "width": null
          }
        },
        "811a03168e7d43f48e085348d9142505": {
          "model_module": "@jupyter-widgets/controls",
          "model_name": "DescriptionStyleModel",
          "model_module_version": "1.5.0",
          "state": {
            "_model_module": "@jupyter-widgets/controls",
            "_model_module_version": "1.5.0",
            "_model_name": "DescriptionStyleModel",
            "_view_count": null,
            "_view_module": "@jupyter-widgets/base",
            "_view_module_version": "1.2.0",
            "_view_name": "StyleView",
            "description_width": ""
          }
        },
        "1c6b6ae045114e43848bd1ec8df11981": {
          "model_module": "@jupyter-widgets/base",
          "model_name": "LayoutModel",
          "model_module_version": "1.2.0",
          "state": {
            "_model_module": "@jupyter-widgets/base",
            "_model_module_version": "1.2.0",
            "_model_name": "LayoutModel",
            "_view_count": null,
            "_view_module": "@jupyter-widgets/base",
            "_view_module_version": "1.2.0",
            "_view_name": "LayoutView",
            "align_content": null,
            "align_items": null,
            "align_self": null,
            "border": null,
            "bottom": null,
            "display": null,
            "flex": null,
            "flex_flow": null,
            "grid_area": null,
            "grid_auto_columns": null,
            "grid_auto_flow": null,
            "grid_auto_rows": null,
            "grid_column": null,
            "grid_gap": null,
            "grid_row": null,
            "grid_template_areas": null,
            "grid_template_columns": null,
            "grid_template_rows": null,
            "height": null,
            "justify_content": null,
            "justify_items": null,
            "left": null,
            "margin": null,
            "max_height": null,
            "max_width": null,
            "min_height": null,
            "min_width": null,
            "object_fit": null,
            "object_position": null,
            "order": null,
            "overflow": null,
            "overflow_x": null,
            "overflow_y": null,
            "padding": null,
            "right": null,
            "top": null,
            "visibility": null,
            "width": null
          }
        },
        "5499fb96cda24ea3b1ae75b4797dade8": {
          "model_module": "@jupyter-widgets/controls",
          "model_name": "ProgressStyleModel",
          "model_module_version": "1.5.0",
          "state": {
            "_model_module": "@jupyter-widgets/controls",
            "_model_module_version": "1.5.0",
            "_model_name": "ProgressStyleModel",
            "_view_count": null,
            "_view_module": "@jupyter-widgets/base",
            "_view_module_version": "1.2.0",
            "_view_name": "StyleView",
            "bar_color": null,
            "description_width": ""
          }
        },
        "26b01d992d6b463ea62e2c7233a14cb9": {
          "model_module": "@jupyter-widgets/base",
          "model_name": "LayoutModel",
          "model_module_version": "1.2.0",
          "state": {
            "_model_module": "@jupyter-widgets/base",
            "_model_module_version": "1.2.0",
            "_model_name": "LayoutModel",
            "_view_count": null,
            "_view_module": "@jupyter-widgets/base",
            "_view_module_version": "1.2.0",
            "_view_name": "LayoutView",
            "align_content": null,
            "align_items": null,
            "align_self": null,
            "border": null,
            "bottom": null,
            "display": null,
            "flex": null,
            "flex_flow": null,
            "grid_area": null,
            "grid_auto_columns": null,
            "grid_auto_flow": null,
            "grid_auto_rows": null,
            "grid_column": null,
            "grid_gap": null,
            "grid_row": null,
            "grid_template_areas": null,
            "grid_template_columns": null,
            "grid_template_rows": null,
            "height": null,
            "justify_content": null,
            "justify_items": null,
            "left": null,
            "margin": null,
            "max_height": null,
            "max_width": null,
            "min_height": null,
            "min_width": null,
            "object_fit": null,
            "object_position": null,
            "order": null,
            "overflow": null,
            "overflow_x": null,
            "overflow_y": null,
            "padding": null,
            "right": null,
            "top": null,
            "visibility": null,
            "width": null
          }
        },
        "5591b6c48aee454b81b5d6f1d44186a0": {
          "model_module": "@jupyter-widgets/controls",
          "model_name": "DescriptionStyleModel",
          "model_module_version": "1.5.0",
          "state": {
            "_model_module": "@jupyter-widgets/controls",
            "_model_module_version": "1.5.0",
            "_model_name": "DescriptionStyleModel",
            "_view_count": null,
            "_view_module": "@jupyter-widgets/base",
            "_view_module_version": "1.2.0",
            "_view_name": "StyleView",
            "description_width": ""
          }
        }
      }
    },
    "accelerator": "GPU"
  },
  "cells": [
    {
      "cell_type": "markdown",
      "source": [
        "## Creating Drug-Gene embeddings for exploratory bioinformatics\n",
        "\n",
        "In this notebook, knowledge graphs and their respective ontologies are used to create embeddings for drug-gene interactions (for genes occuring in humans). The strategy is as follows:\n",
        "1. ChG-Miner dataset from Stanford is downloaded (correction - using drugbank because it's much richer)\n",
        "2. The ontologies that contains more info for the genes and drugs is downloaded\n",
        "3. Random embeddings are created that correspond to each drug and gene/gene group\n",
        "4. A graph for the drug-gene interactions is built\n",
        "5. A self-supervised technique to update gene/drug representations is applied.\n",
        "\n",
        "\n",
        "## Knowledge graph refs for drug repurposing\n",
        "\n",
        "|Date|Title|Link|Approach/notes|\n",
        "|---|---|---|---|\n",
        "| 08-01-2019  | Discovering protein drug targets using knowledge graph embeddings | [link](https://aran.library.nuigalway.ie/bitstream/handle/10379/15375/main_dti.pdf;jsessionid=DED09659DD7154C06E2E6DFE73C18213?sequence=1)| Link prediction in knowledge graphs|\n",
        "| 2023-ICLR | Protein representation learning bia knowledge-enhanced primary structure modeling| [link](https://www.biorxiv.org/content/10.1101/2023.01.26.525795v1.full.pdf) | Masked language model for aminoacids, language embs |\n",
        "|2022-ICLR |OntoProtein: Protein pretraining with gene ontology embedding | [link](https://arxiv.org/pdf/2201.11147.pdf)|Masked language models + gene ontology knowledge graph use|\n",
        "|31-01-2022| A knowledge graph to interpret clinical proteomics data |[link](https://www.nature.com/articles/s41587-021-01145-6) | Clinical knowledge graph - no ML. \"Clinical proteomics\" - may be used to extend the work to clinical/disease data.|\n",
        "|2020-Nature|Preclinical validation of therapeutic targets predicted by tensor factorization on heterogeneous graphs | [link](https://www.nature.com/articles/s41598-020-74922-z.epdf?sharing_token=9g5nJI1kxkoZN02KQ4PqcdRgN0jAjWel9jnR3ZoTv0P9D9RrU4AAqO3Z-w2ZIYdnJNBD_lL2uovY6Q_qmY4OEC6tB3uqFlmfju-HLeKNbAJDGoiN7Sg8gxqWwy2vJwCXe4YkeXIVeHu2k1B1Som41XusV8f8JV_ygMXNEBbkYgk%3D) | BenevolentAI work | \n",
        "|2022-Nature| Affinity2Vec: drug-target binding affinity prediction through representation learning, graph mining, and machine learning |[link](https://www.nature.com/articles/s41598-022-08787-9) | References a lot of interesting work on the topic of Drug-Target-Binding Affinity (DTBA) problem. Useful for extensions that contain more refined edge features. |\n",
        "|2022-PMLR| Graph-Text Multi-Modal Pre-training for Medical Representation Learning  | [link](https://proceedings.mlr.press/v174/park22a/park22a.pdf)| Cross-modal contrastive pre-training with focus on EHR last author is E. Choi (author of GRAM)|\n",
        "\n",
        "## Useful models/resources\n",
        "|Model|Link|Description|\n",
        "|---|---|---|\n",
        "|OntoProtein | [HuggingFace link](https://huggingface.co/zjunlp/OntoProtein) | The OntoProtein model (see papers above) |\n",
        "|Colab for ProtT5| [notebook link](https://colab.research.google.com/drive/1TUj-ayG3WO52n5N50S7KH9vtt6zRkdmj?usp=sharing#scrollTo=6OC1toF1EM9n)| A ProtT5 model in high-precission (so it can be run in google colab)|\n",
        "|CLUE: The drug repurposing hub (case studies)| [link](https://clue.io/repurposing#case-studies) | Check out for inspiration on what to do with the trained model (and how to define training objectives)|\n",
        "|A Deep Learning Approach to Antibiotic Discovery|[link](https://www.cell.com/cell/fulltext/S0092-8674(20)30102-1)| The high-profile success story of Halicin case (often cited as a success of GNNs).|\n",
        "|NA| [Youtube link](https://www.youtube.com/watch?v=0iaeD0BSByw) | Recent video (March '23) from Avi Ma'ayan on his lab's work related to bioinformatics KGs. Relevant for extensions to phenotype data, or in general linking to other KGs. |\n",
        "|ΝΑ|[github link](https://github.com/benb111/awesome-small-molecule-ml#papers-adme-tox)| \"Awesome\" list with small mollecule deep learning works.|\n",
        "\n",
        "\n",
        "## Progress\n",
        "### Preparation/Pre-processing\n",
        "* Cleaned DrugBank KG (in retrospect there are other KGs that are freely available for reproducibility)\n",
        "* Computed protein embeddings with a half-precission version of ProtT5 \n",
        "* Filtered targets/drugs/relations that do not have enough data (left with some 1000s of nodes for drugs and targets and 11 different types of \"relations\" (with `other` being the most common...).\n",
        "* Wrote GraphSage-type graph samplers that are compatible with `tf_gnns` (my library).\n",
        "* Adapted the `tf_gnns` library to easilly create MPNNs with no global features and wrote tests for the new implementation (may help with cleaner and more efficient)\n",
        "\n",
        "### Training\n",
        "TODO\n",
        "\n",
        "### Validation\n",
        "TODO\n",
        "\n",
        "### Ideas\n",
        "* Use mollecular properties and/or BioBERT embeddings (in addition to the graph embeddings) for learning the representations\n",
        "\n"
      ],
      "metadata": {
        "id": "ESKazDKvWmsD"
      }
    },
    {
      "cell_type": "code",
      "source": [
        "#@title Installs (`ProtT5` needs `transformers` and `SentencePiece`)\n",
        "INSTALL_TRANSFORMERS = True #@param {'type' : 'boolean'}\n",
        "if INSTALL_TRANSFORMERS:\n",
        "    !pip install SentencePiece\n",
        "    !pip install transformers"
      ],
      "metadata": {
        "colab": {
          "base_uri": "https://localhost:8080/"
        },
        "id": "3dfyjHnr1qev",
        "outputId": "a2220963-a826-4ce1-aa9b-1c407aa43192",
        "cellView": "form"
      },
      "execution_count": null,
      "outputs": [
        {
          "output_type": "stream",
          "name": "stdout",
          "text": [
            "Looking in indexes: https://pypi.org/simple, https://us-python.pkg.dev/colab-wheels/public/simple/\n",
            "Collecting SentencePiece\n",
            "  Downloading sentencepiece-0.1.97-cp39-cp39-manylinux_2_17_x86_64.manylinux2014_x86_64.whl (1.3 MB)\n",
            "\u001b[2K     \u001b[90m━━━━━━━━━━━━━━━━━━━━━━━━━━━━━━━━━━━━━━━━\u001b[0m \u001b[32m1.3/1.3 MB\u001b[0m \u001b[31m23.5 MB/s\u001b[0m eta \u001b[36m0:00:00\u001b[0m\n",
            "\u001b[?25hInstalling collected packages: SentencePiece\n",
            "Successfully installed SentencePiece-0.1.97\n",
            "Looking in indexes: https://pypi.org/simple, https://us-python.pkg.dev/colab-wheels/public/simple/\n",
            "Collecting transformers\n",
            "  Downloading transformers-4.27.4-py3-none-any.whl (6.8 MB)\n",
            "\u001b[2K     \u001b[90m━━━━━━━━━━━━━━━━━━━━━━━━━━━━━━━━━━━━━━━━\u001b[0m \u001b[32m6.8/6.8 MB\u001b[0m \u001b[31m63.8 MB/s\u001b[0m eta \u001b[36m0:00:00\u001b[0m\n",
            "\u001b[?25hRequirement already satisfied: filelock in /usr/local/lib/python3.9/dist-packages (from transformers) (3.10.7)\n",
            "Requirement already satisfied: numpy>=1.17 in /usr/local/lib/python3.9/dist-packages (from transformers) (1.22.4)\n",
            "Requirement already satisfied: packaging>=20.0 in /usr/local/lib/python3.9/dist-packages (from transformers) (23.0)\n",
            "Requirement already satisfied: requests in /usr/local/lib/python3.9/dist-packages (from transformers) (2.27.1)\n",
            "Requirement already satisfied: pyyaml>=5.1 in /usr/local/lib/python3.9/dist-packages (from transformers) (6.0)\n",
            "Requirement already satisfied: tqdm>=4.27 in /usr/local/lib/python3.9/dist-packages (from transformers) (4.65.0)\n",
            "Collecting huggingface-hub<1.0,>=0.11.0\n",
            "  Downloading huggingface_hub-0.13.4-py3-none-any.whl (200 kB)\n",
            "\u001b[2K     \u001b[90m━━━━━━━━━━━━━━━━━━━━━━━━━━━━━━━━━━━━━━\u001b[0m \u001b[32m200.1/200.1 kB\u001b[0m \u001b[31m23.8 MB/s\u001b[0m eta \u001b[36m0:00:00\u001b[0m\n",
            "\u001b[?25hRequirement already satisfied: regex!=2019.12.17 in /usr/local/lib/python3.9/dist-packages (from transformers) (2022.10.31)\n",
            "Collecting tokenizers!=0.11.3,<0.14,>=0.11.1\n",
            "  Downloading tokenizers-0.13.3-cp39-cp39-manylinux_2_17_x86_64.manylinux2014_x86_64.whl (7.8 MB)\n",
            "\u001b[2K     \u001b[90m━━━━━━━━━━━━━━━━━━━━━━━━━━━━━━━━━━━━━━━━\u001b[0m \u001b[32m7.8/7.8 MB\u001b[0m \u001b[31m78.8 MB/s\u001b[0m eta \u001b[36m0:00:00\u001b[0m\n",
            "\u001b[?25hRequirement already satisfied: typing-extensions>=3.7.4.3 in /usr/local/lib/python3.9/dist-packages (from huggingface-hub<1.0,>=0.11.0->transformers) (4.5.0)\n",
            "Requirement already satisfied: certifi>=2017.4.17 in /usr/local/lib/python3.9/dist-packages (from requests->transformers) (2022.12.7)\n",
            "Requirement already satisfied: urllib3<1.27,>=1.21.1 in /usr/local/lib/python3.9/dist-packages (from requests->transformers) (1.26.15)\n",
            "Requirement already satisfied: idna<4,>=2.5 in /usr/local/lib/python3.9/dist-packages (from requests->transformers) (3.4)\n",
            "Requirement already satisfied: charset-normalizer~=2.0.0 in /usr/local/lib/python3.9/dist-packages (from requests->transformers) (2.0.12)\n",
            "Installing collected packages: tokenizers, huggingface-hub, transformers\n",
            "Successfully installed huggingface-hub-0.13.4 tokenizers-0.13.3 transformers-4.27.4\n"
          ]
        }
      ]
    },
    {
      "cell_type": "code",
      "source": [
        "!pip install tf_gnns==0.1.5a2"
      ],
      "metadata": {
        "colab": {
          "base_uri": "https://localhost:8080/"
        },
        "id": "NCrugF0-RUfp",
        "outputId": "bb417fc9-6ab7-43ee-abe9-58c3128a9048"
      },
      "execution_count": null,
      "outputs": [
        {
          "output_type": "stream",
          "name": "stdout",
          "text": [
            "Looking in indexes: https://pypi.org/simple, https://us-python.pkg.dev/colab-wheels/public/simple/\n",
            "Collecting tf_gnns==0.1.5a2\n",
            "  Downloading tf_gnns-0.1.5a2-py3-none-any.whl (38 kB)\n",
            "Installing collected packages: tf_gnns\n",
            "Successfully installed tf_gnns-0.1.5a2\n"
          ]
        }
      ]
    },
    {
      "cell_type": "code",
      "source": [
        "#@title `ProtT5` model (not essential - can use pre-computed embeddings)\n",
        "from transformers import T5EncoderModel, T5Tokenizer\n",
        "import torch\n",
        "class ProtT5EmbModel:\n",
        "    def __init__(\n",
        "        self, \n",
        "        model_string : str= \"Rostlab/prot_t5_xl_half_uniref50-enc\", \n",
        "        device : str= 'cuda:0'):\n",
        "        \"\"\"\n",
        "        ProtT5EmbModel:\n",
        "\n",
        "        a quick and dirty inference for ProtT5 model. The max sequence computable \n",
        "        with colab is ~4.5k aminoacids.\n",
        "\n",
        "        \"\"\"\n",
        "        self.model_string = model_string\n",
        "        self.device = device\n",
        "        self._get_model()\n",
        "        self.model, self.tokenizer = self._get_model()\n",
        "\n",
        "    def _get_model(self):\n",
        "        model = T5EncoderModel.from_pretrained(self.model_string)\n",
        "        model = model.to(device) # move model to GPU\n",
        "        model = model.eval() # set model to evaluation mode\n",
        "        tokenizer = T5Tokenizer.from_pretrained(self.model_string, do_lower_case=False)\n",
        "        return model, tokenizer\n",
        "\n",
        "    def _compute_on_targets(self,targets_and_sequences : dict):\n",
        "        \"\"\"\n",
        "        Given a dictionary of target:sequence (in fasta format) compute the\n",
        "        embeddings.\n",
        "        \"\"\"\n",
        "        #sort to maybe enable batching (not extremely helpful - the problem is\n",
        "        #  the larger sequences)\n",
        "\n",
        "        self.seq_dict = sorted( targets_and_sequences.items(), key=lambda kv: len( targets_and_sequences[kv[0]] ), reverse=True )\n",
        "\n",
        "    def _comp(\n",
        "        self,\n",
        "        inds_to_compute\n",
        "        ):\n",
        "        \n",
        "        try:\n",
        "            seqs = [' '.join(self.seq_dict[i][1]) for i in inds_to_compute]\n",
        "            token_encoding = self.tokenizer.batch_encode_plus(seqs, add_special_tokens=True, padding=\"longest\")\n",
        "            input_ids      = torch.tensor(token_encoding['input_ids']).to(device)\n",
        "            attention_mask = torch.tensor(token_encoding['attention_mask']).to(device)\n",
        "            with torch.no_grad():\n",
        "                # returns: ( batch-size x max_seq_len_in_minibatch x embedding_dim )\n",
        "                emb_repr = self.model(input_ids, attention_mask=attention_mask)\n",
        "            return emb_repr['last_hidden_state'].mean(-2).detach().cpu().numpy()\n",
        "        except:\n",
        "            print(\"RuntimeError during embedding\")\n",
        "    \n",
        "    def _comp_all(\n",
        "        self,\n",
        "        file_to_save_at = 'protein_embeddings_file.pd',\n",
        "        max_seq_len = 4563,\n",
        "        save_every = 100\n",
        "        ):\n",
        "        \"\"\"\n",
        "        Computing with single example in batch (~40mins for ~4k proteins with max length 4k aminoacids)\n",
        "        \"\"\"\n",
        "        results = {}\n",
        "        # manually selected - memory limmitations do not allow very large proteins.\n",
        "        start_idx = 10 \n",
        "        for sd in tqdm(range(0, len(self.seq_dict))):\n",
        "            if len(self.seq_dict[sd][1]) > max_seq_len:\n",
        "                print('target {} larger than max_seq_len ({}). Did not compute.'.format(self.seq_dict[sd][0],len(self.seq_dict[sd][1])))\n",
        "                continue\n",
        "            res = self._comp([sd])\n",
        "            results[self.seq_dict[sd][0]] = [res[0].astype('float16')]\n",
        "            if (sd+1) % save_every == 0:\n",
        "                pd.DataFrame(results).T.to_pickle(os.path.join(data_root_folder,file_to_save_at))\n",
        "                print('saving to' + os.path.join(data_root_folder,file_to_save_at))\n",
        "\n",
        "        pd.DataFrame(results).T.to_pickle(os.path.join(data_root_folder,file_to_save_at))"
      ],
      "metadata": {
        "cellView": "form",
        "id": "M8tPCwETj-D8"
      },
      "execution_count": null,
      "outputs": []
    },
    {
      "cell_type": "code",
      "source": [
        "import os\n",
        "import pandas as pd\n",
        "import numpy as np\n",
        "import matplotlib.pyplot as pplot\n",
        "\n",
        "import xml.etree.ElementTree as ET\n",
        "\n",
        "from google.colab import drive\n",
        "drive.mount('/content/gdrive')"
      ],
      "metadata": {
        "colab": {
          "base_uri": "https://localhost:8080/"
        },
        "id": "WEUYYnyJHMky",
        "outputId": "726c463f-6d33-4c98-8fab-13ffd1bfffab"
      },
      "execution_count": null,
      "outputs": [
        {
          "output_type": "stream",
          "name": "stdout",
          "text": [
            "Mounted at /content/gdrive\n"
          ]
        }
      ]
    },
    {
      "cell_type": "code",
      "source": [
        "#@title Where to save or load from the datasets\n",
        "\n",
        "import os\n",
        "# !mkdir /content/gdrive/MyDrive/datasets\n",
        "# !mkdir /content/gdrive/MyDrive/datasets/DrugDiscovery\n",
        "data_root_folder = '/content/gdrive/MyDrive/datasets/DrugDiscovery' #@param {type : 'string'}\n",
        "os.environ['DATA_ROOT_FOLDER'] = data_root_folder\n",
        "DOWNLOAD_DATA = False #@param {type : 'boolean'}\n",
        "PREP_DATA = False #@param {type : 'boolean'}\n",
        "CREATE_SUBGRAPH = False #@param {type : 'boolean'}\n",
        "PROT_EMB_PATH = os.path.join(data_root_folder,'protein')\n",
        "PROT_EMB_PATH_HalfPrec = os.path.join(data_root_folder, 'computed_protT5_uniprot_half_precission.pd')"
      ],
      "metadata": {
        "id": "vLDF2CRUHRKF",
        "cellView": "form"
      },
      "execution_count": null,
      "outputs": []
    },
    {
      "cell_type": "code",
      "source": [
        "#@title Downloading and preparation of data (if neccessary)\n",
        "if DOWNLOAD_DATA:\n",
        "    # For drug-gene interactions\n",
        "    !wget --directory-prefix=$DATA_ROOT_FOLDER https://snap.stanford.edu/biodata/datasets/10002/files/ChG-Miner_miner-chem-gene.tsv.gz\n",
        "\n",
        "    # for gene naming\n",
        "    !wget --directory-prefix=$DATA_ROOT_FOLDER https://ftp.ebi.ac.uk/pub/databases/genenames/hgnc/json/hgnc_complete_set.json\n",
        "\n",
        "    # drug ontology (not drugbank! - the drug-disease interaction graph is using drugbank IDs!)\n",
        "    # !wget https://kg-hub.berkeleybop.io/kg-obo/dron/2022-04-22/dron.json\n",
        "\n",
        "    # see https://www.uniprot.org/help/downloads#embeddings\n",
        "    # and https://www.uniprot.org/help/embeddings for source of the embeddings. \n",
        "    # This is a \"pre-alphafold1\" transformer repr. learning technique for aminoacids \n",
        "    # using the \"ProtT5\" model.\n",
        "    !wget https://ftp.uniprot.org/pub/databases/uniprot/current_release/knowledgebase/embeddings/uniprot_sprot/per-protein.h5\n",
        "    !mkdir $DATA_ROOT_FOLDER/prot-embedings/ && mv per-protein.h5 $DATA_ROOT_FOLDER/prot-embedings/per-protein.h5\n",
        "\n",
        "if PREP_DATA:\n",
        "    !mkdir drugbank_data && mkdir drugbank_data/drug_data %mkdir drugbank_data/target_data\n",
        "    !cd drugbank_data/drug_data && unzip $DATA_ROOT_FOLDER/drugbank_all_full_database.xml.zip \n",
        "    !cd drugbank_data/target_data && unzip $DATA_ROOT_FOLDER/drugbank_all_target_polypeptide_ids.csv.zip\n",
        "    !cp -r $DATA_ROOT_FOLDER/prot-embedings.h5 . \n",
        "\n",
        "df_drug_gene = pd.read_csv(os.path.join(data_root_folder,'ChG-Miner_miner-chem-gene.tsv.gz'), compression='gzip', header=0, sep='\\t')\n",
        "# target_ids = pd.read_csv('drugbank_data/target_data/all.csv')\n",
        "\n",
        "SUBGRAPH_PATH = os.path.join(data_root_folder,'drugbank_subgraph')\n",
        "\n",
        "\n",
        "# If subgraph is not created it is loaded from disk.\n",
        "if CREATE_SUBGRAPH:\n",
        "\n",
        "    def _get_drug_drug(adv_eff_elm):\n",
        "        d = {}\n",
        "        for i in adv_eff_elm:\n",
        "            d[_strip_tag_text(i.tag)] = i.text\n",
        "        return d\n",
        "\n",
        "    def _proc_child(child, drugs_to_keep = []):\n",
        "        # to get drug-drug interactions of for a drug:\n",
        "        db_id = [d.text for d in _findall(child, 'drugbank-id') if 'DB' in d.text]\n",
        "        # db_id = db_id[0]\n",
        "        _id = None\n",
        "        for _db_id in db_id:\n",
        "            if _db_id in drugs_to_keep:\n",
        "                _id = _db_id\n",
        "                break\n",
        "\n",
        "        if _id is None:\n",
        "            return None\n",
        "\n",
        "        d = {'drugbank-id' : _id}\n",
        "        for c in _findall(child, 'drug-interactions'):\n",
        "            all_inters = [];\n",
        "            for cc in c:\n",
        "                all_inters.append(_get_drug_drug(cc))\n",
        "        d['drug-interactions'] = all_inters\n",
        "        d['description'] = _find(child, 'description').text\n",
        "\n",
        "        return d\n",
        "\n",
        "    tree = ET.parse('drugbank_data/drug_data/full database.xml')\n",
        "    root = tree.getroot()\n",
        "\n",
        "    keep_list = set(df_drug_gene['#Drug'].unique())\n",
        "    subgraph_drug_data = []\n",
        "    for child in root:\n",
        "        res = _proc_child(child, drugs_to_keep = keep_list)\n",
        "        if res is not None:\n",
        "            subgraph_drug_data.append(res)\n",
        "            \n",
        "    subgraph_drug_data_df = pd.DataFrame(subgraph_drug_data)\n",
        "    subgraph_drug_data_df.to_csv(SUBGRAPH_PATH)\n",
        "    # del tree\n",
        "else:\n",
        "    subgraph_drug_data_df = pd.read_csv(SUBGRAPH_PATH)\n",
        "    "
      ],
      "metadata": {
        "id": "EZ29gaoSn9hF",
        "cellView": "form"
      },
      "execution_count": null,
      "outputs": []
    },
    {
      "cell_type": "code",
      "source": [
        "#@title Pre-proc DrugDank data to get subgraph (also pre-computed). If `False`, reads from disc.\n",
        "DRUGBANK_GRAPH_DATA_PROC = False #@param {'type' : 'boolean'}\n",
        "SUBGRAPH_FILE_NAME = 'drugbank_subgraph_v3' #@param ['drugbank_subgraph_v2', 'drugbank_subgraph_v3']\n",
        "def _strip_tag_text(v):\n",
        "    return v[24:]\n",
        "\n",
        "def _find(cc,tag):\n",
        "    return cc.find('{http://www.drugbank.ca}' + tag)\n",
        "\n",
        "def _findall(cc,tag):\n",
        "    return cc.findall('{http://www.drugbank.ca}' + tag)\n",
        "\n",
        "# SUBGRAPH_PATH_v2 = os.path.join(data_root_folder,'drugbank_subgraph_v2')\n",
        "SUBGRAPH_PATH = os.path.join(data_root_folder,'drugbank_subgraph_v3')\n",
        "if DRUGBANK_GRAPH_DATA_PROC:\n",
        "    def _get_actions(actions_element):\n",
        "        r = []\n",
        "        for a in actions_element:\n",
        "            r.append({_strip_tag_text(a.tag) :  a.text})\n",
        "        return r\n",
        "\n",
        "    def _get_polypeptide(polypeptide_element):\n",
        "        keep_tags = ['name','general-function','amino-acid-sequence']\n",
        "        dat = {}\n",
        "        dat.update({polypeptide_element.items()[0][0] : polypeptide_element.items()[0][1]})\n",
        "        for p in polypeptide_element:\n",
        "            tt = _strip_tag_text(p.tag)\n",
        "            if tt in keep_tags:\n",
        "                dat[tt] = p.text\n",
        "        return dat\n",
        "        \n",
        "    def _get_target(target_element):\n",
        "        scrape_strategies = {'actions' : _get_actions ,'polypeptide' : _get_polypeptide}\n",
        "        dtarg = []\n",
        "        for p in target_element:\n",
        "            \n",
        "            dtarg_d = {}\n",
        "            for pp in p:\n",
        "                tt = _strip_tag_text(pp.tag)\n",
        "                if tt in scrape_strategies:\n",
        "                    dtarg_d[tt] = scrape_strategies[tt](pp)\n",
        "            dtarg.append(dtarg_d)\n",
        "        return dtarg\n",
        "\n",
        "    def _proc_drug_elm(d):\n",
        "        dd = {}\n",
        "        for d_ in d:\n",
        "            dd[_strip_tag_text(d_.tag)] = d_.text\n",
        "        return dd\n",
        "\n",
        "    def _proc_iter(cc,tag):\n",
        "        tt = '{http://www.drugbank.ca}' + tag\n",
        "        res = {}\n",
        "        for c in cc:\n",
        "            if tag == 'enzymes':\n",
        "                if tag not in res:\n",
        "                    res[tag] = [c.text]\n",
        "                else:                \n",
        "                    res[tag].append(c.text)\n",
        "            if tag == 'drugs':\n",
        "                if tag in res:\n",
        "                    res[tag].append(_proc_drug_elm(c))\n",
        "                else:\n",
        "                    res[tag] = [_proc_drug_elm(c)]\n",
        "        return res\n",
        "\n",
        "\n",
        "    def _get_pathways_element(pathways_elm):\n",
        "        pathways = []\n",
        "        all_pw_dat = {}\n",
        "        for p in pathways_elm:\n",
        "            keep_tags = ['category','name','smpdb-id']\n",
        "            for p_ in p:\n",
        "                tt = _strip_tag_text(p_.tag)\n",
        "                if tt in ['drugs', 'enzymes']:\n",
        "                    res = _proc_iter(p_, tt)\n",
        "                    all_pw_dat.update(res)\n",
        "\n",
        "                if tt in keep_tags:\n",
        "                    all_pw_dat[tt] = p_.text\n",
        "            pathways.append(all_pw_dat)\n",
        "            all_pw_dat = {}\n",
        "        return pathways\n",
        "\n",
        "    def _small_mol(c):\n",
        "        \"\"\"\n",
        "        to parse the small molecule data\n",
        "        \"\"\"\n",
        "        tags_to_keep_text = ['drugbank-id','name','description','indication','mechanism-of-action']\n",
        "        res_dict = {}\n",
        "        for c_ in c:\n",
        "            tt = _strip_tag_text(c_.tag)\n",
        "            if tt in tags_to_keep_text:\n",
        "                res_dict[tt] = c_.text\n",
        "            if tt == 'pathways':\n",
        "                res_dict[tt] = _get_pathways_element(c_)\n",
        "            if tt == 'targets':\n",
        "                res_dict[tt] = _get_target(c_)\n",
        "        return res_dict\n",
        "\n",
        "    def _biotech(c):\n",
        "        \"\"\"\n",
        "        to parse the biotech data\n",
        "        \"\"\"\n",
        "        return _small_mol(c)\n",
        "\n",
        "    drug_centric = []\n",
        "    for c in root:\n",
        "        if c.items()[0][1] == 'small molecule':\n",
        "            p = _small_mol(c)\n",
        "        if c.items()[0][1] == 'biotech':\n",
        "            p  = _biotech(c)\n",
        "        drug_centric.append(p)\n",
        "    dbdata = pd.DataFrame(drug_centric)\n",
        "    dbdata.to_pickle(SUBGRAPH_PATH)\n",
        "else:\n",
        "    dbdata = pd.read_pickle(SUBGRAPH_PATH)"
      ],
      "metadata": {
        "id": "Ui6UsiFDnVX9",
        "cellView": "form"
      },
      "execution_count": null,
      "outputs": []
    },
    {
      "cell_type": "code",
      "source": [
        "#@title Visualization of polypeptide sizes (colab GPU can handle up to 4.5k residues)\n",
        "## Compute all targets and sequences\n",
        "from tqdm.auto import tqdm\n",
        "\n",
        "def _replace_nonstandard(s):\n",
        "    \"\"\"\n",
        "    From the ProtT5 code (see \"useful resources\" in the top) check - read_fasta\n",
        "    \"\"\"\n",
        "    return s.replace('U','X').replace('Z','X').replace('O','X')\n",
        "\n",
        "targets_and_sequences = {}\n",
        "for t in tqdm(dbdata['targets']):\n",
        "    for tt in t:\n",
        "        if 'polypeptide' in tt:\n",
        "            ppt = tt['polypeptide']['id']\n",
        "\n",
        "            if ppt in targets_and_sequences:\n",
        "                continue\n",
        "            seq = ''.join(tt['polypeptide']['amino-acid-sequence'].split('\\n')[1:])\n",
        "            seq = _replace_nonstandard(seq)\n",
        "            targets_and_sequences[ppt] = seq     \n",
        "\n",
        "targ_len = [len(ss) for tt, ss in targets_and_sequences.items()]\n",
        "p = pplot.figure(figsize = (5,2), dpi = 100)\n",
        "p = pplot.hist(targ_len, 100)\n",
        "max_seq, min_seq = max(targ_len), min(targ_len)\n",
        "pplot.title('Distribution of aminoacid sequence lengths\\nmin/max len: %i/%i '%(min_seq, max_seq))\n",
        "pplot.grid()\n",
        "pplot.show()"
      ],
      "metadata": {
        "colab": {
          "base_uri": "https://localhost:8080/",
          "height": 289,
          "referenced_widgets": [
            "61ed4ae6ca074499af2f770abec4fc4c",
            "de060fe179a548dda51554f0b584e552",
            "ca8805a2dcb84c608e5cd0e5a0a88c32",
            "264a8304a3414804885c68c1f5ca6bda",
            "a079f7cdfff34404b568926046b05a91",
            "752e0112374549feb23986ea73e79ee7",
            "811a03168e7d43f48e085348d9142505",
            "1c6b6ae045114e43848bd1ec8df11981",
            "5499fb96cda24ea3b1ae75b4797dade8",
            "26b01d992d6b463ea62e2c7233a14cb9",
            "5591b6c48aee454b81b5d6f1d44186a0"
          ]
        },
        "id": "fkp09NmMSMb1",
        "outputId": "395efd9e-026b-4f61-92fb-6e9f0869752b",
        "cellView": "form"
      },
      "execution_count": null,
      "outputs": [
        {
          "output_type": "display_data",
          "data": {
            "text/plain": [
              "  0%|          | 0/15235 [00:00<?, ?it/s]"
            ],
            "application/vnd.jupyter.widget-view+json": {
              "version_major": 2,
              "version_minor": 0,
              "model_id": "61ed4ae6ca074499af2f770abec4fc4c"
            }
          },
          "metadata": {}
        },
        {
          "output_type": "display_data",
          "data": {
            "text/plain": [
              "<Figure size 500x200 with 1 Axes>"
            ],
            "image/png": "[encoded data removed]"
          },
          "metadata": {}
        }
      ]
    },
    {
      "cell_type": "code",
      "source": [
        "computed_prot_emb = pd.read_pickle(PROT_EMB_PATH_HalfPrec)\n",
        "target_emb_dict = {k : v for k, v in computed_prot_emb.reset_index().values}"
      ],
      "metadata": {
        "id": "0pRG_QKbk3oL"
      },
      "execution_count": null,
      "outputs": []
    },
    {
      "cell_type": "code",
      "source": [
        "computed_prot_emb"
      ],
      "metadata": {
        "colab": {
          "base_uri": "https://localhost:8080/",
          "height": 424
        },
        "id": "DHwzMcejS7JB",
        "outputId": "6518167e-4e12-4a57-b574-c2f2fb0e1418"
      },
      "execution_count": null,
      "outputs": [
        {
          "output_type": "execute_result",
          "data": {
            "text/plain": [
              "                                                        0\n",
              "P04114  [0.0413, -0.1171, -0.01254, 0.03058, -0.01344,...\n",
              "P08519  [0.1737, 0.1521, -0.01371, 0.1003, 0.0992, 0.0...\n",
              "Q07954  [0.02309, 0.05316, 0.0623, 0.04175, -0.02142, ...\n",
              "P0DTC1  [0.01039, -0.05624, 0.001566, 0.0801, 0.00258,...\n",
              "P98160  [0.003035, 0.0462, 0.0515, 0.000439, -0.00786,...\n",
              "...                                                   ...\n",
              "P0C1V1  [0.012314, -0.08545, 0.09296, 0.003925, 0.0337...\n",
              "Q16498  [0.0614, 0.0352, -0.04218, -0.0548, 0.0627, 0....\n",
              "O43519  [0.10394, 0.02731, -0.09735, -0.01855, 0.00053...\n",
              "P0C2S2  [0.147, 0.0628, -0.08606, -0.10345, -0.001795,...\n",
              "Q9UE69  [0.1355, -0.08685, -0.156, -0.0867, -0.05667, ...\n",
              "\n",
              "[4753 rows x 1 columns]"
            ],
            "text/html": [
              "\n",
              "  <div id=\"df-05583e0e-c5a1-4347-833e-e482859be232\">\n",
              "    <div class=\"colab-df-container\">\n",
              "      <div>\n",
              "<style scoped>\n",
              "    .dataframe tbody tr th:only-of-type {\n",
              "        vertical-align: middle;\n",
              "    }\n",
              "\n",
              "    .dataframe tbody tr th {\n",
              "        vertical-align: top;\n",
              "    }\n",
              "\n",
              "    .dataframe thead th {\n",
              "        text-align: right;\n",
              "    }\n",
              "</style>\n",
              "<table border=\"1\" class=\"dataframe\">\n",
              "  <thead>\n",
              "    <tr style=\"text-align: right;\">\n",
              "      <th></th>\n",
              "      <th>0</th>\n",
              "    </tr>\n",
              "  </thead>\n",
              "  <tbody>\n",
              "    <tr>\n",
              "      <th>P04114</th>\n",
              "      <td>[0.0413, -0.1171, -0.01254, 0.03058, -0.01344,...</td>\n",
              "    </tr>\n",
              "    <tr>\n",
              "      <th>P08519</th>\n",
              "      <td>[0.1737, 0.1521, -0.01371, 0.1003, 0.0992, 0.0...</td>\n",
              "    </tr>\n",
              "    <tr>\n",
              "      <th>Q07954</th>\n",
              "      <td>[0.02309, 0.05316, 0.0623, 0.04175, -0.02142, ...</td>\n",
              "    </tr>\n",
              "    <tr>\n",
              "      <th>P0DTC1</th>\n",
              "      <td>[0.01039, -0.05624, 0.001566, 0.0801, 0.00258,...</td>\n",
              "    </tr>\n",
              "    <tr>\n",
              "      <th>P98160</th>\n",
              "      <td>[0.003035, 0.0462, 0.0515, 0.000439, -0.00786,...</td>\n",
              "    </tr>\n",
              "    <tr>\n",
              "      <th>...</th>\n",
              "      <td>...</td>\n",
              "    </tr>\n",
              "    <tr>\n",
              "      <th>P0C1V1</th>\n",
              "      <td>[0.012314, -0.08545, 0.09296, 0.003925, 0.0337...</td>\n",
              "    </tr>\n",
              "    <tr>\n",
              "      <th>Q16498</th>\n",
              "      <td>[0.0614, 0.0352, -0.04218, -0.0548, 0.0627, 0....</td>\n",
              "    </tr>\n",
              "    <tr>\n",
              "      <th>O43519</th>\n",
              "      <td>[0.10394, 0.02731, -0.09735, -0.01855, 0.00053...</td>\n",
              "    </tr>\n",
              "    <tr>\n",
              "      <th>P0C2S2</th>\n",
              "      <td>[0.147, 0.0628, -0.08606, -0.10345, -0.001795,...</td>\n",
              "    </tr>\n",
              "    <tr>\n",
              "      <th>Q9UE69</th>\n",
              "      <td>[0.1355, -0.08685, -0.156, -0.0867, -0.05667, ...</td>\n",
              "    </tr>\n",
              "  </tbody>\n",
              "</table>\n",
              "<p>4753 rows × 1 columns</p>\n",
              "</div>\n",
              "      <button class=\"colab-df-convert\" onclick=\"convertToInteractive('df-05583e0e-c5a1-4347-833e-e482859be232')\"\n",
              "              title=\"Convert this dataframe to an interactive table.\"\n",
              "              style=\"display:none;\">\n",
              "        \n",
              "  <svg xmlns=\"http://www.w3.org/2000/svg\" height=\"24px\"viewBox=\"0 0 24 24\"\n",
              "       width=\"24px\">\n",
              "    <path d=\"M0 0h24v24H0V0z\" fill=\"none\"/>\n",
              "    <path d=\"M18.56 5.44l.94 2.06.94-2.06 2.06-.94-2.06-.94-.94-2.06-.94 2.06-2.06.94zm-11 1L8.5 8.5l.94-2.06 2.06-.94-2.06-.94L8.5 2.5l-.94 2.06-2.06.94zm10 10l.94 2.06.94-2.06 2.06-.94-2.06-.94-.94-2.06-.94 2.06-2.06.94z\"/><path d=\"M17.41 7.96l-1.37-1.37c-.4-.4-.92-.59-1.43-.59-.52 0-1.04.2-1.43.59L10.3 9.45l-7.72 7.72c-.78.78-.78 2.05 0 2.83L4 21.41c.39.39.9.59 1.41.59.51 0 1.02-.2 1.41-.59l7.78-7.78 2.81-2.81c.8-.78.8-2.07 0-2.86zM5.41 20L4 18.59l7.72-7.72 1.47 1.35L5.41 20z\"/>\n",
              "  </svg>\n",
              "      </button>\n",
              "      \n",
              "  <style>\n",
              "    .colab-df-container {\n",
              "      display:flex;\n",
              "      flex-wrap:wrap;\n",
              "      gap: 12px;\n",
              "    }\n",
              "\n",
              "    .colab-df-convert {\n",
              "      background-color: #E8F0FE;\n",
              "      border: none;\n",
              "      border-radius: 50%;\n",
              "      cursor: pointer;\n",
              "      display: none;\n",
              "      fill: #1967D2;\n",
              "      height: 32px;\n",
              "      padding: 0 0 0 0;\n",
              "      width: 32px;\n",
              "    }\n",
              "\n",
              "    .colab-df-convert:hover {\n",
              "      background-color: #E2EBFA;\n",
              "      box-shadow: 0px 1px 2px rgba(60, 64, 67, 0.3), 0px 1px 3px 1px rgba(60, 64, 67, 0.15);\n",
              "      fill: #174EA6;\n",
              "    }\n",
              "\n",
              "    [theme=dark] .colab-df-convert {\n",
              "      background-color: #3B4455;\n",
              "      fill: #D2E3FC;\n",
              "    }\n",
              "\n",
              "    [theme=dark] .colab-df-convert:hover {\n",
              "      background-color: #434B5C;\n",
              "      box-shadow: 0px 1px 3px 1px rgba(0, 0, 0, 0.15);\n",
              "      filter: drop-shadow(0px 1px 2px rgba(0, 0, 0, 0.3));\n",
              "      fill: #FFFFFF;\n",
              "    }\n",
              "  </style>\n",
              "\n",
              "      <script>\n",
              "        const buttonEl =\n",
              "          document.querySelector('#df-05583e0e-c5a1-4347-833e-e482859be232 button.colab-df-convert');\n",
              "        buttonEl.style.display =\n",
              "          google.colab.kernel.accessAllowed ? 'block' : 'none';\n",
              "\n",
              "        async function convertToInteractive(key) {\n",
              "          const element = document.querySelector('#df-05583e0e-c5a1-4347-833e-e482859be232');\n",
              "          const dataTable =\n",
              "            await google.colab.kernel.invokeFunction('convertToInteractive',\n",
              "                                                     [key], {});\n",
              "          if (!dataTable) return;\n",
              "\n",
              "          const docLinkHtml = 'Like what you see? Visit the ' +\n",
              "            '<a target=\"_blank\" href=https://colab.research.google.com/notebooks/data_table.ipynb>data table notebook</a>'\n",
              "            + ' to learn more about interactive tables.';\n",
              "          element.innerHTML = '';\n",
              "          dataTable['output_type'] = 'display_data';\n",
              "          await google.colab.output.renderOutput(dataTable, element);\n",
              "          const docLink = document.createElement('div');\n",
              "          docLink.innerHTML = docLinkHtml;\n",
              "          element.appendChild(docLink);\n",
              "        }\n",
              "      </script>\n",
              "    </div>\n",
              "  </div>\n",
              "  "
            ]
          },
          "metadata": {},
          "execution_count": 14
        }
      ]
    },
    {
      "cell_type": "code",
      "source": [
        "# remove the targets that have no embeddings:\n",
        "no_emb_targets = set(targets_and_sequences.keys()) - set(target_emb_dict.keys())\n",
        "for t in no_emb_targets:\n",
        "    print(t, len(targets_and_sequences[t]))\n"
      ],
      "metadata": {
        "colab": {
          "base_uri": "https://localhost:8080/"
        },
        "id": "q-5yrsd0mg_Z",
        "outputId": "023d19e9-e650-45e3-9de7-cb6012bb74ea"
      },
      "execution_count": null,
      "outputs": [
        {
          "output_type": "stream",
          "name": "stdout",
          "text": [
            "P0C6X7 7073\n",
            "Q02817 5179\n",
            "P0DTD1 7096\n",
            "Q98VG9 6709\n",
            "K9N7C7 7078\n",
            "P21817 5038\n",
            "Q5T4S7 5183\n",
            "Q8WXI7 14507\n",
            "P98164 4655\n",
            "Q92736 4967\n"
          ]
        }
      ]
    },
    {
      "cell_type": "markdown",
      "source": [
        "## Data cleaning\n",
        "* Removing entries that do not contain \"targets\"\n",
        "* removing experimentals, bio-factors and others (\"`AP?`\") that seem to have limmited graph data\n",
        "* cleaning-up some of the relations (some of them have very few occurences)\n",
        "* remove some targets \n",
        "  * rare targets\n",
        "  * targets for which I cannot compute embeddings for using the available models (more than 4.5k residues)\n",
        "  * it is possible to associate them with other targets - e.g., with pathway data or with sequence alignment, but at this stage  I'll neglect that\n",
        "\n"
      ],
      "metadata": {
        "id": "8vbix6BrvIIe"
      }
    },
    {
      "cell_type": "code",
      "source": [
        "def _clean_action_data(a):\n",
        "    \"\"\"\n",
        "    Some combined actions are rare or have slightly different\n",
        "    naming (e.g., binding/binder). This is used to consolidate them\n",
        "    \"\"\"\n",
        "    if a == 'binder':\n",
        "        return 'binding'\n",
        "    if a in ['inhibition of synthesis','blocker']:\n",
        "        # not the same, but could may be close:\n",
        "        return 'inhibitor'\n",
        "    if a == 'other/unknown':\n",
        "        return 'other'\n",
        "    return a\n",
        "\n",
        "def _action_data_multi_clean(a):\n",
        "    if 'downregulator' in a:\n",
        "        return ['downregulator']\n",
        "    if 'inhibitor' in a:\n",
        "        return ['inhibitor']\n",
        "\n",
        "    if 'antagonist' in a and 'binding' in a:\n",
        "        return ['antagonist']\n",
        "\n",
        "    if 'agonist' in a and 'binding' in a:\n",
        "        return ['agonist']\n",
        "\n",
        "    if 'antagonist' in a and 'agonist' in a:\n",
        "        return ['agonist-antagonist'] # https://en.wikipedia.org/wiki/Agonist-antagonist\n",
        "\n",
        "    if 'antagonist' in a and 'regulator' in a:\n",
        "        return ['antagonist']\n",
        "\n",
        "    if 'inhibitor' in a and 'antibody' in a:\n",
        "        return ['inhibitor']\n",
        "    if 'modulator' in a :\n",
        "        return ['modulator']\n",
        "    return a\n",
        "    \n",
        "    \n",
        "def _get_interacting_proteins(x):\n",
        "    res = []\n",
        "    for e in x:\n",
        "        if len(e['actions']) > 0:\n",
        "            action_dat = []\n",
        "            for ee in e['actions']:\n",
        "                action_dat.append(_clean_action_data(ee['action']))\n",
        "            action_dat = _action_data_multi_clean(action_dat)\n",
        "        else:\n",
        "            action_dat = ['other']\n",
        "        if 'polypeptide' in e:\n",
        "            res.append((action_dat[0], e['polypeptide']['id'], ))\n",
        "        \n",
        "    return res\n",
        "\n",
        "def _keep_drug_id(x):\n",
        "    return x[0:2] != 'BI' and x[0:2] != 'AP' and x[0:2] != 'EX' and 'SALT' not in x\n",
        "\n",
        "def _keep_target_ids(x):\n",
        "    \"\"\"\n",
        "    Filter out the targets for which I cannot compute embeddings due to computational \n",
        "    limmitations\n",
        "    \"\"\"\n",
        "    \n",
        "    tt = []\n",
        "    for t in x:\n",
        "        if 'polypeptide' in t:\n",
        "            if t['polypeptide']['id'] in no_emb_targets:\n",
        "                continue\n",
        "            else:\n",
        "                tt.append(t)    \n",
        "    return tt\n",
        "filtered_target_idx = dbdata.targets.apply(_keep_target_ids)\n",
        "# filtered_target_idx = dbdata.targets\n",
        "dbdata_f = dbdata[filtered_target_idx.apply(lambda x : len(x) > 0)] \n",
        "dbdata_f = dbdata_f[dbdata_f['drugbank-id'].apply(_keep_drug_id)]\n",
        "# target_actions = dbdata_f['targets'].apply(lambda x : '.'.join([a['action'] for a in x[0]['actions']]))\n",
        "# dbdata_f['target_actions'] = target_actions\n",
        "targets = dbdata_f['targets'].apply(_get_interacting_proteins) # protein-to-drug\n",
        "drugs = dbdata_f['drugbank-id'] # drug-to-protein\n",
        "pathways = dbdata_f['pathways'] # currently unused"
      ],
      "metadata": {
        "id": "r9pRqoujILWl"
      },
      "execution_count": null,
      "outputs": []
    },
    {
      "cell_type": "code",
      "source": [
        "dbdata_f"
      ],
      "metadata": {
        "colab": {
          "base_uri": "https://localhost:8080/",
          "height": 832
        },
        "id": "m78QC6wZDUY-",
        "outputId": "9dd7f38b-92ac-429c-d57f-6d1fed07cd3b"
      },
      "execution_count": null,
      "outputs": [
        {
          "output_type": "execute_result",
          "data": {
            "text/plain": [
              "      drugbank-id                      name  \\\n",
              "5         DB02351               Bivalirudin   \n",
              "10        DB00084        Interferon alfa-n1   \n",
              "15        DB08923            Erythropoietin   \n",
              "28        DB08914             Insulin human   \n",
              "32        DB00037        Interferon alfa-2a   \n",
              "...           ...                       ...   \n",
              "14748     DB16900  Betibeglogene autotemcel   \n",
              "14928     DB17080                   KW-6356   \n",
              "14931     DB17083                Linzagolix   \n",
              "14935     DB17087              JNJ-17216498   \n",
              "14944     DB17096                   UCB7362   \n",
              "\n",
              "                                             description  \\\n",
              "5      Bivalirudin is a synthetic 20 residue peptide ...   \n",
              "10     Interferon alfa-n1 consists of purified, natur...   \n",
              "15     Erythropoietin (EPO) is a growth factor produc...   \n",
              "28     Human Insulin, also known as Regular Insulin, ...   \n",
              "32     Interferon a (human leukocyte protein moiety r...   \n",
              "...                                                  ...   \n",
              "14748  Betibeglogene autotemcel is an autologous gene...   \n",
              "14928  KW-6356 is a selective antagonist of adenosine...   \n",
              "14931  Linzagolix is a non-peptide, selective antagon...   \n",
              "14935  JNJ-17216498 is a histamine receptor H3 antago...   \n",
              "14944  UCB7362 is an orally active plasmepsin X (PMX)...   \n",
              "\n",
              "                                              indication  \\\n",
              "5      For treatment of heparin-induced thrombocytope...   \n",
              "10     For the treatment of venereal or genital warts...   \n",
              "15     Indicated in adult and paediatric patients for...   \n",
              "28     Human insulin is indicated to improve glycemic...   \n",
              "32     For the treatment of chronic hepatitis C, hair...   \n",
              "...                                                  ...   \n",
              "14748  Betibeglogene autotemcel is indicated for the ...   \n",
              "14928                                               None   \n",
              "14931  Linzagolix is indicated for the treatment of m...   \n",
              "14935                                               None   \n",
              "14944                                               None   \n",
              "\n",
              "                                     mechanism-of-action  \\\n",
              "5      Inhibits the action of thrombin by binding bot...   \n",
              "10     Interferon alpha binds to type I interferon re...   \n",
              "15     Erythropoietin or exogenous epoetin alfa binds...   \n",
              "28     The primary activity of insulin is the regulat...   \n",
              "32     Interferon alpha binds to type I interferon re...   \n",
              "...                                                  ...   \n",
              "14748  Betibeglogene autotemcel is an autologous gene...   \n",
              "14928                                               None   \n",
              "14931  Linzagolix is a selective antagonist of the go...   \n",
              "14935                                               None   \n",
              "14944  Plasmepsins are aspartic acid proteases produc...   \n",
              "\n",
              "                                                pathways  \\\n",
              "5      [{'smpdb-id': 'SMP0000277', 'name': 'Bivalirud...   \n",
              "10                                                    []   \n",
              "15                                                    []   \n",
              "28                                                    []   \n",
              "32                                                    []   \n",
              "...                                                  ...   \n",
              "14748                                                 []   \n",
              "14928                                                 []   \n",
              "14931                                                 []   \n",
              "14935                                                 []   \n",
              "14944                                                 []   \n",
              "\n",
              "                                                 targets  \n",
              "5      [{'actions': [{'action': 'inhibitor'}], 'polyp...  \n",
              "10     [{'actions': [{'action': 'agonist'}], 'polypep...  \n",
              "15     [{'actions': [{'action': 'agonist'}], 'polypep...  \n",
              "28     [{'actions': [{'action': 'agonist'}], 'polypep...  \n",
              "32     [{'actions': [], 'polypeptide': {'id': 'P17181...  \n",
              "...                                                  ...  \n",
              "14748  [{'actions': [{'action': 'binder'}], 'polypept...  \n",
              "14928  [{'actions': [{'action': 'antagonist'}], 'poly...  \n",
              "14931  [{'actions': [{'action': 'antagonist'}], 'poly...  \n",
              "14935  [{'actions': [{'action': 'antagonist'}], 'poly...  \n",
              "14944  [{'actions': [{'action': 'inhibitor'}, {'actio...  \n",
              "\n",
              "[4370 rows x 7 columns]"
            ],
            "text/html": [
              "\n",
              "  <div id=\"df-c368e67e-e7f4-41ab-b4ab-27bd17f4c462\">\n",
              "    <div class=\"colab-df-container\">\n",
              "      <div>\n",
              "<style scoped>\n",
              "    .dataframe tbody tr th:only-of-type {\n",
              "        vertical-align: middle;\n",
              "    }\n",
              "\n",
              "    .dataframe tbody tr th {\n",
              "        vertical-align: top;\n",
              "    }\n",
              "\n",
              "    .dataframe thead th {\n",
              "        text-align: right;\n",
              "    }\n",
              "</style>\n",
              "<table border=\"1\" class=\"dataframe\">\n",
              "  <thead>\n",
              "    <tr style=\"text-align: right;\">\n",
              "      <th></th>\n",
              "      <th>drugbank-id</th>\n",
              "      <th>name</th>\n",
              "      <th>description</th>\n",
              "      <th>indication</th>\n",
              "      <th>mechanism-of-action</th>\n",
              "      <th>pathways</th>\n",
              "      <th>targets</th>\n",
              "    </tr>\n",
              "  </thead>\n",
              "  <tbody>\n",
              "    <tr>\n",
              "      <th>5</th>\n",
              "      <td>DB02351</td>\n",
              "      <td>Bivalirudin</td>\n",
              "      <td>Bivalirudin is a synthetic 20 residue peptide ...</td>\n",
              "      <td>For treatment of heparin-induced thrombocytope...</td>\n",
              "      <td>Inhibits the action of thrombin by binding bot...</td>\n",
              "      <td>[{'smpdb-id': 'SMP0000277', 'name': 'Bivalirud...</td>\n",
              "      <td>[{'actions': [{'action': 'inhibitor'}], 'polyp...</td>\n",
              "    </tr>\n",
              "    <tr>\n",
              "      <th>10</th>\n",
              "      <td>DB00084</td>\n",
              "      <td>Interferon alfa-n1</td>\n",
              "      <td>Interferon alfa-n1 consists of purified, natur...</td>\n",
              "      <td>For the treatment of venereal or genital warts...</td>\n",
              "      <td>Interferon alpha binds to type I interferon re...</td>\n",
              "      <td>[]</td>\n",
              "      <td>[{'actions': [{'action': 'agonist'}], 'polypep...</td>\n",
              "    </tr>\n",
              "    <tr>\n",
              "      <th>15</th>\n",
              "      <td>DB08923</td>\n",
              "      <td>Erythropoietin</td>\n",
              "      <td>Erythropoietin (EPO) is a growth factor produc...</td>\n",
              "      <td>Indicated in adult and paediatric patients for...</td>\n",
              "      <td>Erythropoietin or exogenous epoetin alfa binds...</td>\n",
              "      <td>[]</td>\n",
              "      <td>[{'actions': [{'action': 'agonist'}], 'polypep...</td>\n",
              "    </tr>\n",
              "    <tr>\n",
              "      <th>28</th>\n",
              "      <td>DB08914</td>\n",
              "      <td>Insulin human</td>\n",
              "      <td>Human Insulin, also known as Regular Insulin, ...</td>\n",
              "      <td>Human insulin is indicated to improve glycemic...</td>\n",
              "      <td>The primary activity of insulin is the regulat...</td>\n",
              "      <td>[]</td>\n",
              "      <td>[{'actions': [{'action': 'agonist'}], 'polypep...</td>\n",
              "    </tr>\n",
              "    <tr>\n",
              "      <th>32</th>\n",
              "      <td>DB00037</td>\n",
              "      <td>Interferon alfa-2a</td>\n",
              "      <td>Interferon a (human leukocyte protein moiety r...</td>\n",
              "      <td>For the treatment of chronic hepatitis C, hair...</td>\n",
              "      <td>Interferon alpha binds to type I interferon re...</td>\n",
              "      <td>[]</td>\n",
              "      <td>[{'actions': [], 'polypeptide': {'id': 'P17181...</td>\n",
              "    </tr>\n",
              "    <tr>\n",
              "      <th>...</th>\n",
              "      <td>...</td>\n",
              "      <td>...</td>\n",
              "      <td>...</td>\n",
              "      <td>...</td>\n",
              "      <td>...</td>\n",
              "      <td>...</td>\n",
              "      <td>...</td>\n",
              "    </tr>\n",
              "    <tr>\n",
              "      <th>14748</th>\n",
              "      <td>DB16900</td>\n",
              "      <td>Betibeglogene autotemcel</td>\n",
              "      <td>Betibeglogene autotemcel is an autologous gene...</td>\n",
              "      <td>Betibeglogene autotemcel is indicated for the ...</td>\n",
              "      <td>Betibeglogene autotemcel is an autologous gene...</td>\n",
              "      <td>[]</td>\n",
              "      <td>[{'actions': [{'action': 'binder'}], 'polypept...</td>\n",
              "    </tr>\n",
              "    <tr>\n",
              "      <th>14928</th>\n",
              "      <td>DB17080</td>\n",
              "      <td>KW-6356</td>\n",
              "      <td>KW-6356 is a selective antagonist of adenosine...</td>\n",
              "      <td>None</td>\n",
              "      <td>None</td>\n",
              "      <td>[]</td>\n",
              "      <td>[{'actions': [{'action': 'antagonist'}], 'poly...</td>\n",
              "    </tr>\n",
              "    <tr>\n",
              "      <th>14931</th>\n",
              "      <td>DB17083</td>\n",
              "      <td>Linzagolix</td>\n",
              "      <td>Linzagolix is a non-peptide, selective antagon...</td>\n",
              "      <td>Linzagolix is indicated for the treatment of m...</td>\n",
              "      <td>Linzagolix is a selective antagonist of the go...</td>\n",
              "      <td>[]</td>\n",
              "      <td>[{'actions': [{'action': 'antagonist'}], 'poly...</td>\n",
              "    </tr>\n",
              "    <tr>\n",
              "      <th>14935</th>\n",
              "      <td>DB17087</td>\n",
              "      <td>JNJ-17216498</td>\n",
              "      <td>JNJ-17216498 is a histamine receptor H3 antago...</td>\n",
              "      <td>None</td>\n",
              "      <td>None</td>\n",
              "      <td>[]</td>\n",
              "      <td>[{'actions': [{'action': 'antagonist'}], 'poly...</td>\n",
              "    </tr>\n",
              "    <tr>\n",
              "      <th>14944</th>\n",
              "      <td>DB17096</td>\n",
              "      <td>UCB7362</td>\n",
              "      <td>UCB7362 is an orally active plasmepsin X (PMX)...</td>\n",
              "      <td>None</td>\n",
              "      <td>Plasmepsins are aspartic acid proteases produc...</td>\n",
              "      <td>[]</td>\n",
              "      <td>[{'actions': [{'action': 'inhibitor'}, {'actio...</td>\n",
              "    </tr>\n",
              "  </tbody>\n",
              "</table>\n",
              "<p>4370 rows × 7 columns</p>\n",
              "</div>\n",
              "      <button class=\"colab-df-convert\" onclick=\"convertToInteractive('df-c368e67e-e7f4-41ab-b4ab-27bd17f4c462')\"\n",
              "              title=\"Convert this dataframe to an interactive table.\"\n",
              "              style=\"display:none;\">\n",
              "        \n",
              "  <svg xmlns=\"http://www.w3.org/2000/svg\" height=\"24px\"viewBox=\"0 0 24 24\"\n",
              "       width=\"24px\">\n",
              "    <path d=\"M0 0h24v24H0V0z\" fill=\"none\"/>\n",
              "    <path d=\"M18.56 5.44l.94 2.06.94-2.06 2.06-.94-2.06-.94-.94-2.06-.94 2.06-2.06.94zm-11 1L8.5 8.5l.94-2.06 2.06-.94-2.06-.94L8.5 2.5l-.94 2.06-2.06.94zm10 10l.94 2.06.94-2.06 2.06-.94-2.06-.94-.94-2.06-.94 2.06-2.06.94z\"/><path d=\"M17.41 7.96l-1.37-1.37c-.4-.4-.92-.59-1.43-.59-.52 0-1.04.2-1.43.59L10.3 9.45l-7.72 7.72c-.78.78-.78 2.05 0 2.83L4 21.41c.39.39.9.59 1.41.59.51 0 1.02-.2 1.41-.59l7.78-7.78 2.81-2.81c.8-.78.8-2.07 0-2.86zM5.41 20L4 18.59l7.72-7.72 1.47 1.35L5.41 20z\"/>\n",
              "  </svg>\n",
              "      </button>\n",
              "      \n",
              "  <style>\n",
              "    .colab-df-container {\n",
              "      display:flex;\n",
              "      flex-wrap:wrap;\n",
              "      gap: 12px;\n",
              "    }\n",
              "\n",
              "    .colab-df-convert {\n",
              "      background-color: #E8F0FE;\n",
              "      border: none;\n",
              "      border-radius: 50%;\n",
              "      cursor: pointer;\n",
              "      display: none;\n",
              "      fill: #1967D2;\n",
              "      height: 32px;\n",
              "      padding: 0 0 0 0;\n",
              "      width: 32px;\n",
              "    }\n",
              "\n",
              "    .colab-df-convert:hover {\n",
              "      background-color: #E2EBFA;\n",
              "      box-shadow: 0px 1px 2px rgba(60, 64, 67, 0.3), 0px 1px 3px 1px rgba(60, 64, 67, 0.15);\n",
              "      fill: #174EA6;\n",
              "    }\n",
              "\n",
              "    [theme=dark] .colab-df-convert {\n",
              "      background-color: #3B4455;\n",
              "      fill: #D2E3FC;\n",
              "    }\n",
              "\n",
              "    [theme=dark] .colab-df-convert:hover {\n",
              "      background-color: #434B5C;\n",
              "      box-shadow: 0px 1px 3px 1px rgba(0, 0, 0, 0.15);\n",
              "      filter: drop-shadow(0px 1px 2px rgba(0, 0, 0, 0.3));\n",
              "      fill: #FFFFFF;\n",
              "    }\n",
              "  </style>\n",
              "\n",
              "      <script>\n",
              "        const buttonEl =\n",
              "          document.querySelector('#df-c368e67e-e7f4-41ab-b4ab-27bd17f4c462 button.colab-df-convert');\n",
              "        buttonEl.style.display =\n",
              "          google.colab.kernel.accessAllowed ? 'block' : 'none';\n",
              "\n",
              "        async function convertToInteractive(key) {\n",
              "          const element = document.querySelector('#df-c368e67e-e7f4-41ab-b4ab-27bd17f4c462');\n",
              "          const dataTable =\n",
              "            await google.colab.kernel.invokeFunction('convertToInteractive',\n",
              "                                                     [key], {});\n",
              "          if (!dataTable) return;\n",
              "\n",
              "          const docLinkHtml = 'Like what you see? Visit the ' +\n",
              "            '<a target=\"_blank\" href=https://colab.research.google.com/notebooks/data_table.ipynb>data table notebook</a>'\n",
              "            + ' to learn more about interactive tables.';\n",
              "          element.innerHTML = '';\n",
              "          dataTable['output_type'] = 'display_data';\n",
              "          await google.colab.output.renderOutput(dataTable, element);\n",
              "          const docLink = document.createElement('div');\n",
              "          docLink.innerHTML = docLinkHtml;\n",
              "          element.appendChild(docLink);\n",
              "        }\n",
              "      </script>\n",
              "    </div>\n",
              "  </div>\n",
              "  "
            ]
          },
          "metadata": {},
          "execution_count": 17
        }
      ]
    },
    {
      "cell_type": "code",
      "source": [
        "relations_count = {}\n",
        "protein_targets_count = {}\n",
        "\n",
        "for t in targets.values:\n",
        "    for rel, targ in t:\n",
        "        # rel= '.'.join(rel)\n",
        "        if rel not in relations_count:\n",
        "            relations_count[rel] = 1\n",
        "        else:\n",
        "            relations_count[rel] += 1\n",
        "\n",
        "        if targ not in protein_targets_count:\n",
        "            protein_targets_count[targ] = 1\n",
        "        else:\n",
        "            protein_targets_count[targ] += 1"
      ],
      "metadata": {
        "id": "kNfOTo-cKtWp"
      },
      "execution_count": null,
      "outputs": []
    },
    {
      "cell_type": "code",
      "source": [
        "data= np.vstack([v for v in target_emb_dict.values()])\n",
        "from sklearn.manifold import TSNE\n",
        "res = TSNE().fit_transform(data)"
      ],
      "metadata": {
        "id": "TypB-FYdlsOi"
      },
      "execution_count": null,
      "outputs": []
    },
    {
      "cell_type": "code",
      "source": [
        "import matplotlib.pyplot as pplot\n",
        "pplot.plot(res[:,0],res[:,1],'.')\n",
        "pplot.title(\"Protein emb. TSNE\")"
      ],
      "metadata": {
        "colab": {
          "base_uri": "https://localhost:8080/",
          "height": 469
        },
        "id": "SJESO8WYl_9x",
        "outputId": "4480099f-cdf0-48a1-d386-ba1a8b4ecdc9"
      },
      "execution_count": null,
      "outputs": [
        {
          "output_type": "execute_result",
          "data": {
            "text/plain": [
              "Text(0.5, 1.0, 'Protein emb. TSNE')"
            ]
          },
          "metadata": {},
          "execution_count": 15
        },
        {
          "output_type": "display_data",
          "data": {
            "text/plain": [
              "<Figure size 640x480 with 1 Axes>"
            ],
            "image/png": "[encoded data removed]"
          },
          "metadata": {}
        }
      ]
    },
    {
      "cell_type": "code",
      "source": [
        "#@title further cleaning to filter-out drugs and targets with too few relations and relations that take part in too few interactions\n",
        "THRESH_KEEP_TARGET = 1  #@param {'type' : 'integer'}\n",
        "THRESH_KEEP_RELATION = 30 #@param {'type' : 'integer'} rare relations set to \"other\"\n",
        "\n",
        "all_relations = sorted([(k,v) for k,v in relations_count.items()], key = lambda x: x[1], reverse = 1)\n",
        "relations_to_keep = [k for k, v in relations_count.items() if v > THRESH_KEEP_RELATION]\n",
        "targets_filtered = {k : v for k, v in protein_targets_count.items() if v >= THRESH_KEEP_TARGET}\n",
        "\n",
        "def _filter_relations_and_targets(targets):\n",
        "    res = []\n",
        "    for relation, target in targets:\n",
        "        if relation not in relations_to_keep:\n",
        "            relation = 'other'\n",
        "        if target not in targets_filtered:\n",
        "            continue\n",
        "        res.append((relation, target))\n",
        "    return res\n",
        "\n",
        "targf_2 = targets.apply(_filter_relations_and_targets)\n",
        "filt_idx = targf_2.apply(lambda x : len(x) > 1)\n",
        "filtered_targets = targf_2[filt_idx]\n",
        "filtered_drugs = drugs[filt_idx]\n",
        "filtered_drugs = filtered_drugs.apply(lambda x : x.replace('SALT',''))"
      ],
      "metadata": {
        "id": "xn8vRlWP9mAA",
        "cellView": "form"
      },
      "execution_count": null,
      "outputs": []
    },
    {
      "cell_type": "code",
      "source": [
        "relations_list = filtered_targets.values\n",
        "drugs_list = filtered_drugs.values\n",
        "proteins, relations = [] , []\n",
        "for rels in relations_list:\n",
        "    for r in rels:\n",
        "        relation, protein = r\n",
        "        proteins.append(protein)\n",
        "        relations.append(relation)\n",
        "proteins = np.unique(proteins)\n",
        "relations = np.unique(relations)\n",
        "\n",
        "target_to_drug = {}\n",
        "for r,drug in zip(filtered_targets, filtered_drugs):\n",
        "    for rel_, targ_ in r:\n",
        "        if targ_ in target_to_drug:\n",
        "            target_to_drug[targ_].append( (drug, rel_) )\n",
        "        else:\n",
        "            target_to_drug[targ_] = [(drug, rel_)]\n",
        "\n",
        "print('drugs: %i\\nprotein targets: %i\\ndrug-target relations: %i'%(len(filtered_drugs), len(proteins), len(relations)))"
      ],
      "metadata": {
        "colab": {
          "base_uri": "https://localhost:8080/"
        },
        "id": "NTmLoBxAHJ_-",
        "outputId": "b96e25c6-ab66-42ca-f2b5-cca44ef5bb94"
      },
      "execution_count": null,
      "outputs": [
        {
          "output_type": "stream",
          "name": "stdout",
          "text": [
            "drugs: 1453\n",
            "protein targets: 2616\n",
            "drug-target relations: 15\n"
          ]
        }
      ]
    },
    {
      "cell_type": "code",
      "source": [
        "#@title initializing the embeddings (`emb_prot`, `emb_rel`, `emb_dr`)\n",
        "import numpy as np\n",
        "import tensorflow as tf\n",
        "\n",
        "EMB_SIZE = 256 #@param {type : 'integer'}\n",
        "graph_entities = [proteins, relations, filtered_drugs]\n",
        "np.random.seed(132)\n",
        "emb_prot, emb_rel, emb_dr = \\\n",
        "  [tf.Variable(np.random.randn(len(n_), EMB_SIZE).astype('float32')/np.sqrt(EMB_SIZE)) for n_ in graph_entities]\n",
        "\n",
        "\n",
        "dict_drug_idx = {d : i for i, d in enumerate(filtered_drugs.values)}\n",
        "dict_rel_idx = {r : i for i, r in enumerate(relations)}\n",
        "dict_prot_idx = {p : i  for i, p in enumerate(proteins)}"
      ],
      "metadata": {
        "id": "APyPhMygJBGE",
        "cellView": "form"
      },
      "execution_count": null,
      "outputs": []
    },
    {
      "cell_type": "markdown",
      "source": [
        "## Sampling subgraphs\n",
        "\n",
        "The sampling procedure is as follows:\n",
        "1. A set of drugs is sampled (uniformly at random)\n",
        "  * A sub-set of the relations of the drugs with their targets is returned up to ``MAX_RELATIONS`` of relations.\n",
        "\n",
        "2. From the set of targets interacting with the drugs,\n",
        "   * the set of interacting drugs is retrieved\n",
        "   * the drugs among the non-interacting ones are used as **hard negatives** for the drug-protein interaction task."
      ],
      "metadata": {
        "id": "vWJAZ1nDgxzR"
      }
    },
    {
      "cell_type": "code",
      "source": [
        "filtered_drugs"
      ],
      "metadata": {
        "colab": {
          "base_uri": "https://localhost:8080/"
        },
        "id": "em2hgOFS0k8p",
        "outputId": "7ee36dd0-13dd-4ded-8b29-725fd652efc1"
      },
      "execution_count": null,
      "outputs": [
        {
          "output_type": "execute_result",
          "data": {
            "text/plain": [
              "10       DB00084\n",
              "28       DB08914\n",
              "32       DB00037\n",
              "43       DB01310\n",
              "44       DB01308\n",
              "          ...   \n",
              "14546    DB16695\n",
              "14553    DB16703\n",
              "14583    DB16733\n",
              "14603    DB16754\n",
              "14944    DB17096\n",
              "Name: drugbank-id, Length: 1453, dtype: object"
            ]
          },
          "metadata": {},
          "execution_count": 22
        }
      ]
    },
    {
      "cell_type": "code",
      "source": [
        "#@title sampling graph neighborhoods (dataset index)\n",
        "MAX_RELATIONS  = 3 #@param {type : 'integer'} # keeps a random number of relations\n",
        "def _rel_to_emb_idx_d2t(rels):\n",
        "    \"\"\"\n",
        "    used for drug-to-target\n",
        "    \"\"\"\n",
        "    res = {'relations' : [], 'targets' : []}\n",
        "    for r in rels:\n",
        "        res['relations'].append(dict_rel_idx[r[0]])\n",
        "        res['targets'].append(dict_prot_idx[r[1]])\n",
        "    res['relations'], res['targets'] = np.array(res['relations']), np.array(res['targets'])\n",
        "    return res\n",
        "\n",
        "def _rel_to_emb_idx_t2d(rels):\n",
        "    \"\"\"\n",
        "    used for target-to-drug\n",
        "    \"\"\"\n",
        "    res = {'relations' : [], 'drugs' : []}\n",
        "    for r in rels:\n",
        "        res['relations'].append(dict_rel_idx[r[1]])\n",
        "        res['drugs'].append(dict_drug_idx[r[0]])\n",
        "    res['relations'], res['targets'] = np.array(res['relations']), np.array(res['drugs'])\n",
        "    return res\n",
        "\n",
        "def _get_relations_from_drug_list(drug_inds, max_relations = MAX_RELATIONS):\n",
        "    res = []\n",
        "    for d in drug_inds:\n",
        "        real_rels = _rel_to_emb_idx_d2t(filtered_targets.values[d])\n",
        "        if len(real_rels['relations']) > max_relations:\n",
        "            r = np.random.permutation(len(real_rels['relations']))[:MAX_RELATIONS]\n",
        "            real_rels['targets'], real_rels['relations'] = real_rels['targets'][r], real_rels['relations'][r]\n",
        "        real_rels['drug'] = d\n",
        "        res.append(real_rels)\n",
        "    return res\n",
        "\n",
        "def sample_neighborhood_of_drugs(drug_list, \n",
        "                                 max_relations = MAX_RELATIONS, \n",
        "                                 prevent_backlink = True):\n",
        "    \"\"\"\n",
        "    1. sample the targets from the drugs (and their relation types)\n",
        "    2. sample the drugs from the targets (without the original drugs)\n",
        "\n",
        "    Objective is to make the second-level sampled drugs different from the \n",
        "    first-level sampled drugs.\n",
        "    \"\"\"\n",
        "    # 1. sample the targets from the drugs:\n",
        "    drug_links = _get_relations_from_drug_list(drug_list)\n",
        "\n",
        "    # find the unique targets and sample the target neighborhoods:\n",
        "    sub_drugs = []\n",
        "    sub_targets = []\n",
        "    for t in drug_links:\n",
        "        sub_targets.extend(t['targets'])\n",
        "        sub_drugs.append(t['drug'])\n",
        "    uq_targ = np.unique(sub_targets)\n",
        "    uq_drug = np.unique(sub_drugs)\n",
        "\n",
        "    # 2. sample the drugs from the targets\n",
        "    # From the proteins found in the prev. step, sample a neighborhood of drugs:\n",
        "    target_links = []\n",
        "    targ_proteins = proteins[uq_targ]\n",
        "    for p in targ_proteins:\n",
        "        t2d_rels = target_to_drug[p]\n",
        "        if prevent_backlink:\n",
        "            # leave-out the source \"drugs\"\n",
        "            t2d_res = np.array([(dict_drug_idx[k[0]], dict_rel_idx[k[1]]) for k in t2d_rels if dict_drug_idx[k[0]] not in uq_drug])\n",
        "        else: \n",
        "            t2d_res = np.array([(dict_drug_idx[k[0]], dict_rel_idx[k[1]]) for k in t2d_rels])\n",
        "\n",
        "        if len(t2d_res) >= MAX_RELATIONS:\n",
        "            t2d_res = t2d_res[np.random.permutation(len(t2d_res))[:MAX_RELATIONS]]\n",
        "        if len(t2d_res) > 0:\n",
        "            target_links.append({'target' : dict_prot_idx[p] , 'drugs' : t2d_res[:,0], 'relations' : t2d_res[:,1]})\n",
        "    return drug_links, target_links\n",
        "\n"
      ],
      "metadata": {
        "id": "X-GK34_gYM0j",
        "cellView": "form"
      },
      "execution_count": null,
      "outputs": []
    },
    {
      "cell_type": "code",
      "source": [
        "def _shift_shuffle_edge_list(edge_list, key):\n",
        "    edge_list_copy = [{k : v for k, v in el.items() if k != key} for el in edge_list]\n",
        "    shifted_key = [{**{key : k}, **el} for k, el in zip([edge_list[-1][key], *map(lambda x :x[key],edge_list[:-1])], edge_list_copy)]\n",
        "    return shifted_key\n",
        "\n",
        "drug_links, target_links = sample_neighborhood_of_drugs([10,11,12], prevent_backlink = False)\n",
        "# neg_dr_links, neg_targ_links = [_shift_shuffle_edge_list(e,k) for e,k in zip([drug_links, target_links], ['drug','target'])]\n"
      ],
      "metadata": {
        "id": "ZrLWCJ8jgU2I"
      },
      "execution_count": null,
      "outputs": []
    },
    {
      "cell_type": "code",
      "source": [
        "drug_links, target_links = sample_neighborhood_of_drugs([10,20,30], prevent_backlink = False)"
      ],
      "metadata": {
        "id": "WblbZEwkurhp"
      },
      "execution_count": null,
      "outputs": []
    },
    {
      "cell_type": "code",
      "source": [
        "from typing import List, Dict"
      ],
      "metadata": {
        "id": "ardL7d1YD2ih"
      },
      "execution_count": null,
      "outputs": []
    },
    {
      "cell_type": "markdown",
      "source": [
        "## Sample efficiently Graph-Tensors (GraphTuple local index)\n"
      ],
      "metadata": {
        "id": "gzaWfEtD_hK6"
      }
    },
    {
      "cell_type": "code",
      "source": [
        "# @tf.function\n",
        "emb_nodes = tf.concat([emb_dr, emb_prot],0)\n",
        "offs_proteins = emb_dr.shape[0]\n",
        "def _graph_tuple_from_drug_subgraph(drug_links : List[Dict], \n",
        "                                    target_links : List[Dict],\n",
        "                                    include_backlinks : bool = False,                                    \n",
        "                                    prepare_negatives :bool = True,\n",
        "                                    return_numpy : bool = True):\n",
        "    \"\"\"\n",
        "    A helper function to gather the drug-centric and target-centric graphs.\n",
        "    \"\"\"\n",
        "    \n",
        "    \n",
        "    _local_indexing_dict = {}\n",
        "    def _gather_gt(edge_list : List[Dict],\n",
        "                   from_key : str = 'drug',\n",
        "                   to_keys  : str= 'targets', \n",
        "                   offs_nodes = 0,\n",
        "                   offs_rels = 0,\n",
        "                   map_from_key_idx_fn = lambda x : x ,\n",
        "                   map_to_key_idx_fn = lambda x : x + offs_proteins,\n",
        "                   dict_g2l = {}):\n",
        "        \"\"\"\n",
        "\n",
        "        The attributed edge list of a bipartite graph can be expressed as follows:\n",
        "\n",
        "        | from_nodes      | to_keys   | relations |\n",
        "        | --------------- | ----------| --------- |\n",
        "        | 0               | [2,3,4]   | [5,5,0]   |\n",
        "        | 2               | [44,3]    | [23]      |\n",
        "        ....\n",
        "        \n",
        "        the \"edge_list\" input represents that data in a list of dictionaries:\n",
        "\n",
        "        [{'from_node' : 0 , 'relations' : [5,5,0] ,'to_nodes' : [2,3,4] },\n",
        "         {'from_node' : 2,   'relations' : [23] , 'to_nodes' : [44,3]},\n",
        "         ...]\n",
        "\n",
        "        This function creates appropriately numbered graph tuples for attributed graphs \n",
        "        like the one in the example. \n",
        "\n",
        "        Arguments:\n",
        "          edge_list : an edge list as a dictionary\n",
        "          from_key : the key for the \"from\" column\n",
        "          t\n",
        "\n",
        "        \n",
        "        \"\"\"\n",
        "        senders, receivers, node_inds, edge_inds = [[],[],[],[]]\n",
        "        for d in edge_list:\n",
        "            new_nodes = [map_from_key_idx_fn(d[from_key]), *map(map_to_key_idx_fn, d[to_keys])]\n",
        "\n",
        "            _tmp_offs = offs_nodes\n",
        "            local_node_inds = []\n",
        "            for n in new_nodes:\n",
        "                if n not in dict_g2l:\n",
        "                    dict_g2l[n] = _tmp_offs\n",
        "                    node_inds.append(n)\n",
        "                    _tmp_offs += 1\n",
        "\n",
        "                local_node_inds.append(dict_g2l[n])\n",
        "\n",
        "            offs_nodes = _tmp_offs \n",
        "\n",
        "            # a similar procedure could be implemented to reduce the \n",
        "            # relations to their max number. However, this may be restrictive \n",
        "            # when quantitative data are used for the relations in the future \n",
        "            # (rather than the limited discrete set of \"relations\" currently available.)\n",
        "            edge_inds.extend(d['relations'])\n",
        "\n",
        "            s = [local_node_inds[0]] * len(d[to_keys])\n",
        "            r = local_node_inds[1:]\n",
        "            senders.append(s)\n",
        "            receivers.append(r)\n",
        "            \n",
        "            if include_backlinks:\n",
        "                senders.append(r)\n",
        "                receivers.append(s)\n",
        "                edge_inds.extend(edge_inds)\n",
        "\n",
        "        return senders, receivers, edge_inds, node_inds, offs_nodes, offs_rels, dict_g2l\n",
        "\n",
        "    ###############################################################################\n",
        "    ## this may be traceable easilly (with inputs the edge_inds etc)\n",
        "    ## Positive sampling:\n",
        "    senders_d, receivers_d, edge_inds_d, node_inds, offs_nodes, offs_rels, g2l= \\\n",
        "        _gather_gt(drug_links,'drug','targets',0,0)\n",
        "        \n",
        "    nodes_d, edges_d = tf.gather(emb_nodes, node_inds), tf.gather(emb_rel, edge_inds_d)\n",
        "\n",
        "    senders_t, receivers_t, edge_inds_t, node_inds_t, offs_nodes_t, offs_rels_t, g2l =\\\n",
        "       _gather_gt(target_links,'target' ,'drugs',offs_nodes, offs_rels,\n",
        "            map_from_key_idx_fn = lambda x : x + offs_proteins,\n",
        "            map_to_key_idx_fn = lambda x: x,\n",
        "            dict_g2l = g2l)\n",
        "    nodes_t, edges_t = tf.gather(emb_nodes, node_inds_t), tf.gather(emb_rel, edge_inds_t)\n",
        "    \n",
        "    \n",
        "\n",
        "    all_edges = [edges_d, edges_t]\n",
        "    all_nodes = [nodes_d, nodes_t]\n",
        "    senders_list = [*senders_d, *senders_t]\n",
        "    receivers_list = [*receivers_d, *receivers_t]\n",
        "    edge_labels = tf.ones(len(edge_inds_d)+len(edge_inds_t))\n",
        "\n",
        "    ## \n",
        "    # shufle relations (in reality just shift) \n",
        "    # and negative sampling:\n",
        "    if prepare_negatives == True:\n",
        "        _sdl = _shift_shuffle_edge_list(drug_links, 'drug')\n",
        "        senders_nd, receivers_nd, edge_inds_nd, node_inds_nd, offs_nodes, offs_rels, g2l = \\\n",
        "        _gather_gt(_sdl, 'drug', 'targets', offs_nodes, offs_rels, dict_g2l = g2l)\n",
        "\n",
        "        _sdl = _shift_shuffle_edge_list(target_links, 'target')\n",
        "        senders_nt, receivers_nt, edge_inds_nt, node_inds_nt, offs_nodes, offs_rels, g2l = \\\n",
        "        _gather_gt(_sdl, 'target','drugs',offs_nodes, offs_rels, \n",
        "                    map_from_key_idx_fn = lambda x : x + offs_proteins,\n",
        "                    map_to_key_idx_fn = lambda x: x,\n",
        "                    dict_g2l = g2l)\n",
        "\n",
        "        all_edges.append(tf.gather(emb_rel, edge_inds_nd))\n",
        "        all_edges.append(tf.gather(emb_rel, edge_inds_nt))\n",
        "\n",
        "        if len(node_inds_nd) >0: # this will not happen...\n",
        "            all_nodes.append(tf.gather(emb_nodes, node_inds_nd))\n",
        "            assert(0)\n",
        "\n",
        "        if len(node_inds_nt) > 0:\n",
        "            all_nodes.append(tf.gather(emb_nodes, node_inds_nt))\n",
        "            assert(0)\n",
        "            \n",
        "        senders_list.extend([*senders_nd, *senders_nt])\n",
        "        receivers_list.extend([*receivers_nd, *receivers_nt])\n",
        "\n",
        "        edge_labels = tf.concat([edge_labels, tf.zeros(len(edge_inds_nd) + len(edge_inds_nt))],0)\n",
        "\n",
        "    _nodes = tf.concat(all_nodes,0)\n",
        "    _edges = tf.concat(all_edges,0)\n",
        "\n",
        "    _td = {\n",
        "        'nodes' : _nodes, \n",
        "        'edges' : _edges,\n",
        "        'senders' : tf.concat(senders_list,0),\n",
        "        'receivers'  : tf.concat(receivers_list,0),\n",
        "        'n_nodes' : tf.constant([_nodes.shape[0]]),\n",
        "        'n_edges' : tf.constant([_edges.shape[0]])\n",
        "    }\n",
        "\n",
        "    if return_numpy:\n",
        "        ret = {}\n",
        "        for k, v in _td.items():\n",
        "            ret.update({k : v.numpy()})\n",
        "            del v\n",
        "        return ret, edge_labels\n",
        "\n",
        "    # edge_labels = tf.concat(tf.zeros(_td['edges'].shape[0]), tf.ones(_td['edges'].shape[0]))\n",
        "    return _td, edge_labels"
      ],
      "metadata": {
        "id": "XKREO9fyp5aA"
      },
      "execution_count": null,
      "outputs": []
    },
    {
      "cell_type": "code",
      "source": [
        "# %%timeit\n",
        "t1, edge_labels = _graph_tuple_from_drug_subgraph(drug_links, target_links, return_numpy = True)"
      ],
      "metadata": {
        "id": "mZLxzr_og-tc"
      },
      "execution_count": null,
      "outputs": []
    },
    {
      "cell_type": "markdown",
      "source": [
        "# Training\n"
      ],
      "metadata": {
        "id": "fdKI6eBDoqzM"
      }
    },
    {
      "cell_type": "code",
      "source": [
        "#@title training parameters\n",
        "LEARNING_RATE = 0.0001 #@param {'type' : 'number'}\n",
        "EPOCHS = 30 #@param\n",
        "BATCH_SIZE = 64 #@param\n",
        "opt = tf.optimizers.Adam(learning_rate = LEARNING_RATE)"
      ],
      "metadata": {
        "cellView": "form",
        "id": "lgYNeRqRfN-1"
      },
      "execution_count": null,
      "outputs": []
    },
    {
      "cell_type": "code",
      "source": [
        "#@title Network parameters\n",
        "CORE_NETWORK_SIZE = 500 #@param\n",
        "NETWORK_TYPE = 'MPNN' #@param ['MPNN','GCN']"
      ],
      "metadata": {
        "cellView": "form",
        "id": "4_AFZ7A4ppel"
      },
      "execution_count": null,
      "outputs": []
    },
    {
      "cell_type": "code",
      "source": [
        "losses = []"
      ],
      "metadata": {
        "id": "XoL1o9CNo6-v"
      },
      "execution_count": null,
      "outputs": []
    },
    {
      "cell_type": "code",
      "source": [
        "# trying out if the technique trains on a subset:\n",
        "batch_size = BATCH_SIZE"
      ],
      "metadata": {
        "id": "s2hlF5wao9WP"
      },
      "execution_count": null,
      "outputs": []
    },
    {
      "cell_type": "code",
      "source": [
        "\n",
        "from tf_gnns import GraphNetMPNN_MLP\n",
        "def _make_mpnn_network(core_steps = 2):\n",
        "    init_args = {'units' : CORE_NETWORK_SIZE, 'core_steps' : core_steps, 'edge_output_size' : 1}\n",
        "    # gn = GraphNetMPNN_MLP(CORE_NETWORK_SIZE, core_steps=core_steps, edge_output_size = 1)\n",
        "    gn = GraphNetMPNN_MLP(**init_args)\n",
        "    return gn , init_args\n",
        "\n",
        "\n",
        "network_type_selection_dict  = {'MPNN' : _make_mpnn_network}\n",
        "\n",
        "if NETWORK_TYPE not in network_type_selection_dict:\n",
        "    raise Exception('Network type %s not implemented!'%(NETWORK_TYPE))\n",
        "\n",
        "nw, model_init_args = network_type_selection_dict[NETWORK_TYPE]()\n",
        "# nw(t1)\n",
        "nw"
      ],
      "metadata": {
        "id": "w-vp2KADLf7s",
        "colab": {
          "base_uri": "https://localhost:8080/",
          "height": 52
        },
        "outputId": "61dbbcde-beee-45c0-8d69-cc2a5037aab0"
      },
      "execution_count": null,
      "outputs": [
        {
          "output_type": "stream",
          "name": "stdout",
          "text": [
            "loaded tfgnn lib\n"
          ]
        },
        {
          "output_type": "execute_result",
          "data": {
            "text/plain": [
              "<tf_gnns.models.graphnet.GraphNetMPNN_MLP at 0x7f92b46ea9a0>"
            ],
            "text/html": [
              "<h> GN Deterministic path containing the following GNs (graph_net_mpnn_mlp,140268069104032): </h> Layer not yet built."
            ]
          },
          "metadata": {},
          "execution_count": 33
        }
      ]
    },
    {
      "cell_type": "code",
      "source": [
        "def eval_loss(edge_labels, nw_out):\n",
        "    return tf.losses.binary_crossentropy(edge_labels, nw_out['edges'][:,0], from_logits = True)"
      ],
      "metadata": {
        "id": "uwhZmmQNqvP1"
      },
      "execution_count": null,
      "outputs": []
    },
    {
      "cell_type": "code",
      "source": [
        "# t1['edges'].shape, edge_labels.shape"
      ],
      "metadata": {
        "id": "phY1aMJXuDNH"
      },
      "execution_count": null,
      "outputs": []
    },
    {
      "cell_type": "code",
      "source": [
        "len(filtered_drugs), emb_dr.shape"
      ],
      "metadata": {
        "colab": {
          "base_uri": "https://localhost:8080/"
        },
        "id": "nkM8urkh056q",
        "outputId": "551df6b4-6c62-4c36-b3d1-c30e6503ddca"
      },
      "execution_count": null,
      "outputs": [
        {
          "output_type": "execute_result",
          "data": {
            "text/plain": [
              "(1453, TensorShape([1453, 256]))"
            ]
          },
          "metadata": {},
          "execution_count": 36
        }
      ]
    },
    {
      "cell_type": "code",
      "source": [
        "import pickle\n",
        "import inspect\n",
        "\n",
        "# nw.save_model('/tmp/model')\n",
        "model_type_dict = {'GraphNetMPNN_MLP' : GraphNetMPNN_MLP}\n",
        "\n",
        "def _save_model(m, path_to_save_at, model_init_args = None):\n",
        "    model_weights = m.get_weights()\n",
        "    build_config = m.get_build_config()\n",
        "    if model_init_args is None:\n",
        "        sig = inspect.signature(m.__init__)\n",
        "        sig_keys = set([k for k in sig.parameters.keys() if k not in ['args','kwargs','self']])\n",
        "        model_init_args = {}\n",
        "        for k,v in nw.__dict__.items():\n",
        "            if k in sig_keys:\n",
        "                model_init_args.update({k : v})\n",
        "\n",
        "    to_save = {\n",
        "        'model_type_str' : type(m).__name__,\n",
        "        'model_init_arguments' : model_init_args, \n",
        "        'build_config' : build_config, \n",
        "        'model_weights' : model_weights\n",
        "    }\n",
        "\n",
        "    with open(path_to_save_at,'wb') as f:\n",
        "        pickle.dump(to_save, f)\n",
        "    print('saved model.')\n",
        "\n",
        "def _load_model(path_to_load_from, model_init_args = None):\n",
        "\n",
        "    with open(path_to_load_from,'rb') as f:\n",
        "        res = pickle.load(f)\n",
        "\n",
        "    \n",
        "    if model_init_args is None:\n",
        "        model_init_args = res['model_init_arguments']\n",
        "\n",
        "    # print(str(res['model_type_str']))\n",
        "    loaded_model = model_type_dict[res['model_type_str']](**model_init_args)\n",
        "    loaded_model.build_from_config(res['build_config'])\n",
        "    loaded_model.set_weights(res['model_weights'])\n",
        "    \n",
        "    return loaded_model\n",
        "\n",
        "# _save_model(nw, '/tmp/asdf2', model_init_args = model_init_args)\n",
        "# model = _load_model('/tmp/asdf2')"
      ],
      "metadata": {
        "id": "GrTyAvKsi8wt"
      },
      "execution_count": null,
      "outputs": []
    },
    {
      "cell_type": "code",
      "source": [
        "from tf_gnns.models.graphnet import GraphNetMPNN_MLP"
      ],
      "metadata": {
        "id": "JyEZLp4inU9L"
      },
      "execution_count": null,
      "outputs": []
    },
    {
      "cell_type": "code",
      "source": [
        "!echo $DATA_ROOT_FOLDER"
      ],
      "metadata": {
        "colab": {
          "base_uri": "https://localhost:8080/"
        },
        "id": "AGy1qFWLj16R",
        "outputId": "f39fa0d8-0914-46e0-e4e9-e3370d810b92"
      },
      "execution_count": null,
      "outputs": [
        {
          "output_type": "stream",
          "name": "stdout",
          "text": [
            "/content/gdrive/MyDrive/datasets/DrugDiscovery\n"
          ]
        }
      ]
    },
    {
      "cell_type": "code",
      "source": [
        "MODEL_ROOT_FOLDER = '/content/gdrive/MyDrive/datasets/DrugDiscovery/models/'#@param"
      ],
      "metadata": {
        "cellView": "form",
        "id": "ywPdSxFRjt0i"
      },
      "execution_count": null,
      "outputs": []
    },
    {
      "cell_type": "code",
      "source": [
        "import datetime\n",
        "import os\n",
        "\n",
        "class Checkpointer:\n",
        "    def __init__(self,model = None,\n",
        "                 model_init_args = None, \n",
        "                 model_root_folder = MODEL_ROOT_FOLDER,\n",
        "                 run_data = {},\n",
        "                 run_tag = None\n",
        "        ):\n",
        "        self.run_data = run_data\n",
        "        self.model = model\n",
        "        self.model_init_args = model_init_args\n",
        "        self.model_root_folder = model_root_folder\n",
        "        if not os.path.exists(self.model_root_folder):\n",
        "            os.mkdir(model_root_folder)\n",
        "\n",
        "        if run_tag is None:\n",
        "            self.run_tag = self._get_dt_string()\n",
        "\n",
        "        self.model_run_tag_path = os.path.join(model_root_folder, self.run_tag)\n",
        "        if not os.path.exists(self.model_run_tag_path):\n",
        "            os.mkdir(self.model_run_tag_path)\n",
        "\n",
        "    def set_model(self, model, model_init_args):\n",
        "        self.model = model\n",
        "        self.model_init_args = model_init_args\n",
        "\n",
        "    def checkpoint_model(self, model_index : int):\n",
        "        p = os.path.join(self.model_run_tag_path, 'model_%04i'%model_index)\n",
        "        if os.path.exists(p):\n",
        "            print('warning! overwriting previous model at %s!'%p)\n",
        "        _save_model(self.model, p, model_init_args = self.model_init_args)\n",
        "        \n",
        "    def _get_dt_string(self):\n",
        "        return datetime.datetime.now().strftime(\"%d-%m-%Y-%I:%M%p\")"
      ],
      "metadata": {
        "id": "CDwj8OIJhzri"
      },
      "execution_count": null,
      "outputs": []
    },
    {
      "cell_type": "code",
      "source": [
        "ckpt = Checkpointer(nw, model_init_args)\n",
        "# ckpt.checkpoint_model(0)"
      ],
      "metadata": {
        "id": "s5ZcQc7z0-0T"
      },
      "execution_count": null,
      "outputs": []
    },
    {
      "cell_type": "code",
      "source": [
        "# num_drugs = 1000\n",
        "# for epoch in range(EPOCHS):\n",
        "#     for batch_start in tqdm(range(0, num_drugs, BATCH_SIZE)):\n",
        "#         some_drugs = np.arange(batch_start, batch_start  + BATCH_SIZE)\n",
        "#         drug_links, target_links = sample_neighborhood_of_drugs(some_drugs, prevent_backlink = False)\n",
        "#         t1, edge_labels = _graph_tuple_from_drug_subgraph(drug_links, target_links)"
      ],
      "metadata": {
        "id": "UcCj0SbQ8lkL"
      },
      "execution_count": null,
      "outputs": []
    },
    {
      "cell_type": "code",
      "source": [
        "@tf.function\n",
        "def _train_step(t1,edge_labels):\n",
        "\n",
        "    \n",
        "    with tf.GradientTape() as tape:\n",
        "        res = nw(t1)\n",
        "        loss= eval_loss(edge_labels, res)\n",
        "        # loss, grads = _train_step(t1,edge_labels)\n",
        "        grads = tape.gradient(loss, nw.weights)\n",
        "\n",
        "    return loss, grads\n",
        "\n",
        "num_drugs = 1200\n",
        "for epoch in range(EPOCHS):\n",
        "    for batch_start in tqdm(range(0, num_drugs, BATCH_SIZE)):\n",
        "        some_drugs = np.arange(batch_start, batch_start  + BATCH_SIZE)\n",
        "        drug_links, target_links = sample_neighborhood_of_drugs(some_drugs, prevent_backlink = False)\n",
        "        t1, edge_labels = _graph_tuple_from_drug_subgraph(drug_links, target_links)\n",
        "        loss, grads = _train_step(t1, edge_labels)\n",
        "        opt.apply_gradients(zip(grads, nw.weights))\n",
        "        losses.append(loss.numpy())\n",
        "    ckpt.checkpoint_model(epoch)\n",
        "\n",
        "    pplot.plot(losses)\n",
        "    pplot.show()"
      ],
      "metadata": {
        "id": "37v8x4rtrPsj"
      },
      "execution_count": null,
      "outputs": []
    },
    {
      "cell_type": "code",
      "source": [
        "pplot.figure(figsize = (4,3), dpi = 150)\n",
        "pplot.plot(losses,'.-')\n",
        "pplot.title('Binary cross-entropy loss\\nedge classification')\n",
        "pplot.xlabel('step')\n",
        "pplot.ylabel('loss')\n",
        "pplot.grid()"
      ],
      "metadata": {
        "colab": {
          "base_uri": "https://localhost:8080/",
          "height": 515
        },
        "id": "Ga6fMsTmPMdr",
        "outputId": "7cfde62f-fab3-42bd-88af-3f6dd565c724"
      },
      "execution_count": null,
      "outputs": [
        {
          "output_type": "display_data",
          "data": {
            "text/plain": [
              "<Figure size 600x450 with 1 Axes>"
            ],
            "image/png": "[encoded data removed]"
          },
          "metadata": {}
        }
      ]
    },
    {
      "cell_type": "code",
      "source": [
        "# There is a memory leakage probably due to the tracing of ops in the sampler.\n",
        "# 1. make a full numpy graph sampler to temporarily remedy that\n",
        "# 2. make a full tensorflow graph sampler (that can also be traced) for high performance.\n",
        "# tf.random.set_seed(2134)"
      ],
      "metadata": {
        "id": "c6-Or7nFIx4-"
      },
      "execution_count": null,
      "outputs": []
    },
    {
      "cell_type": "code",
      "source": [
        "print('Filtered data: %i from %i drug-target data.\\nFull drugbank: %i'%(len(filtered_targets), len(targets), len(dbdata)))"
      ],
      "metadata": {
        "colab": {
          "base_uri": "https://localhost:8080/"
        },
        "id": "bDyh7QmYCxbw",
        "outputId": "6c471630-d09e-48b4-d7e9-7d1437821ecf"
      },
      "execution_count": null,
      "outputs": [
        {
          "output_type": "stream",
          "name": "stdout",
          "text": [
            "Filtered data: 1285 from 4459 drug-target data.\n",
            "Full drugbank: 15235\n"
          ]
        }
      ]
    },
    {
      "cell_type": "markdown",
      "source": [
        "## Resources:\n",
        "* TO CHECK: Predictive Toxicogenomics space : https://www.ncbi.nlm.nih.gov/pmc/articles/PMC5500850/\n",
        "* AstraZeneca video:https://www.youtube.com/watch?v=qH3z5GwccxE"
      ],
      "metadata": {
        "id": "Q3vcVu92DIzh"
      }
    }
  ]
}